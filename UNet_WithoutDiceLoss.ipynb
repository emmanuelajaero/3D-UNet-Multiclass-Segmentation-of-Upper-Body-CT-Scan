{
 "cells": [
  {
   "cell_type": "code",
   "execution_count": 1,
   "id": "83d95e1b",
   "metadata": {},
   "outputs": [],
   "source": [
    "%matplotlib inline"
   ]
  },
  {
   "cell_type": "code",
   "execution_count": 2,
   "id": "94e18ee7",
   "metadata": {},
   "outputs": [
    {
     "name": "stdout",
     "output_type": "stream",
     "text": [
      "MONAI version: 1.1.0\n",
      "Numpy version: 1.21.5\n",
      "Pytorch version: 1.13.1+cu117\n",
      "MONAI flags: HAS_EXT = False, USE_COMPILED = False, USE_META_DICT = False\n",
      "MONAI rev id: a2ec3752f54bfc3b40e7952234fbeb5452ed63e3\n",
      "MONAI __file__: /home/emmanuel/PycharmProjects/pythonProject/venv/lib/python3.7/site-packages/monai/__init__.py\n",
      "\n",
      "Optional dependencies:\n",
      "Pytorch Ignite version: 0.4.11\n",
      "Nibabel version: 4.0.2\n",
      "scikit-image version: 0.19.3\n",
      "Pillow version: 9.5.0\n",
      "Tensorboard version: NOT INSTALLED or UNKNOWN VERSION.\n",
      "gdown version: 4.7.1\n",
      "TorchVision version: 0.14.1+cu117\n",
      "tqdm version: 4.65.0\n",
      "lmdb version: 1.4.1\n",
      "psutil version: 5.9.5\n",
      "pandas version: 1.3.5\n",
      "einops version: 0.6.1\n",
      "transformers version: 4.28.1\n",
      "mlflow version: 1.30.1\n",
      "pynrrd version: 1.0.0\n",
      "\n",
      "For details about installing the optional dependencies, please visit:\n",
      "    https://docs.monai.io/en/latest/installation.html#installing-the-recommended-dependencies\n",
      "\n"
     ]
    }
   ],
   "source": [
    "import os\n",
    "import shutil\n",
    "import tempfile\n",
    "\n",
    "from tqdm import tqdm\n",
    "\n",
    "import numpy as np\n",
    "import nibabel as nib\n",
    "import concurrent.futures\n",
    "\n",
    "from monai.data.utils import pad_list_data_collate\n",
    "\n",
    "import monai.losses as losses\n",
    "import matplotlib.pyplot as plt\n",
    "from monai.networks.layers import Norm\n",
    "\n",
    "from monai.losses import DiceCELoss\n",
    "from monai.inferers import sliding_window_inference\n",
    "from monai.transforms import Transform\n",
    "from monai.transforms import (\n",
    "    AsDiscrete,\n",
    "    Compose,\n",
    "    SpatialPad,\n",
    "    SpatialPadd,\n",
    "    CropForegroundd,\n",
    "    LoadImaged,\n",
    "    Orientationd,\n",
    "    RandFlipd,\n",
    "    RandCropByPosNegLabeld,\n",
    "    RandCropByLabelClassesd,\n",
    "    RandShiftIntensityd,\n",
    "    ScaleIntensityRanged,\n",
    "    NormalizeIntensity,\n",
    "    NormalizeIntensityd,\n",
    "    Spacingd,\n",
    "    RandRotate90d,\n",
    "    EnsureTyped,\n",
    "    RandGaussianNoised,\n",
    ")\n",
    "\n",
    "\n",
    "from monai.config import print_config\n",
    "from monai.metrics import DiceMetric, HausdorffDistanceMetric\n",
    "from monai.networks.nets import UNet\n",
    "\n",
    "from monai.data import (\n",
    "    DataLoader,\n",
    "    ThreadDataLoader,\n",
    "    SmartCacheDataset,\n",
    "    PersistentDataset,\n",
    "    load_decathlon_datalist,\n",
    "    decollate_batch,\n",
    "    set_track_meta,\n",
    ")\n",
    "\n",
    "\n",
    "import torch\n",
    "from torch.optim.lr_scheduler import ReduceLROnPlateau, CyclicLR\n",
    "\n",
    "from boundary_loss import BDLoss, DC_and_BD_loss\n",
    "\n",
    "print_config()"
   ]
  },
  {
   "cell_type": "code",
   "execution_count": 3,
   "id": "c27ce420",
   "metadata": {},
   "outputs": [
    {
     "name": "stdout",
     "output_type": "stream",
     "text": [
      "Model/best_metric_model_without_dice_loss.pth\n"
     ]
    }
   ],
   "source": [
    "directory = os.environ.get(\"MONAI_DATA_DIRECTORY\")\n",
    "root_dir = 'Model'\n",
    "model_name =  os.path.join(root_dir, \"best_metric_model_without_dice_loss.pth\")\n",
    "print(model_name)"
   ]
  },
  {
   "cell_type": "code",
   "execution_count": 4,
   "id": "ced24050",
   "metadata": {},
   "outputs": [],
   "source": [
    "class CombineBinaryMaps(Transform):\n",
    "    def __init__(self, num_classes, keys):\n",
    "        super().__init__()\n",
    "        self.num_classes = num_classes\n",
    "\n",
    "    def __call__(self, data):\n",
    "        binary_maps = data[\"label\"]\n",
    "        combined_map = torch.zeros_like(data['image'][0])\n",
    "\n",
    "        for i in range(self.num_classes):\n",
    "            zero_indices = np.where(combined_map == 0)\n",
    "            combined_map[zero_indices] += (i + 1) * binary_maps[i][zero_indices]\n",
    "#             combined_map %= (self.num_classes + 1)\n",
    "\n",
    "        data[\"label\"] = combined_map.long().unsqueeze(0)\n",
    "        return data"
   ]
  },
  {
   "cell_type": "code",
   "execution_count": 5,
   "id": "c3ab7389",
   "metadata": {},
   "outputs": [],
   "source": [
    "class MyCustomDataReader(Transform):\n",
    "    def __init__(self, data_dir):\n",
    "        self.data_dir = data_dir\n",
    "\n",
    "    def __call__(self, img):\n",
    "        # Load data from the data_dir\n",
    "        file_path = os.path.join(self.data_dir, img)\n",
    "        loaded_data = np.load(file_path)  # Customize this to your specific data format\n",
    "\n",
    "        return loaded_data"
   ]
  },
  {
   "cell_type": "code",
   "execution_count": 6,
   "id": "891f3c04",
   "metadata": {},
   "outputs": [],
   "source": [
    "num_samples = 4\n",
    "\n",
    "os.environ[\"CUDA_DEVICE_ORDER\"] = \"PCI_BUS_ID\"\n",
    "device = torch.device(\"cuda\" if torch.cuda.is_available() else \"cpu\")\n",
    "\n",
    "# ToDo: Try windowing with W:350 and L:40\n",
    "# define the window width and level\n",
    "window_width = 350\n",
    "window_level = 40\n",
    "\n",
    "# calculate the intensity range to clip\n",
    "intensity_min = window_level - window_width / 2.0\n",
    "intensity_max = window_level + window_width / 2.0\n",
    "\n",
    "train_transforms = Compose(\n",
    "    [\n",
    "        LoadImaged(keys=[\"image\", \"label\"], ensure_channel_first=True, image_only=False),\n",
    "        CombineBinaryMaps(keys=[\"label\"], num_classes=10),\n",
    "#         RandGaussianNoised(keys=[\"image\"], prob=0.50, mean=0.0, std=0.1),\n",
    "\n",
    "        ScaleIntensityRanged(\n",
    "            keys=[\"image\"],\n",
    "            a_min=-175,\n",
    "            a_max=250,\n",
    "            b_min=0.0,\n",
    "            b_max=1.0,\n",
    "            clip=True,\n",
    "        ),\n",
    "        CropForegroundd(keys=[\"image\", \"label\"], source_key=\"image\"),\n",
    "        Orientationd(keys=[\"image\", \"label\"], axcodes=\"RAS\"),\n",
    "        Spacingd(\n",
    "            keys=[\"image\", \"label\"],\n",
    "            pixdim=(1.5, 1.5, 2.0),\n",
    "            mode=(\"bilinear\", \"nearest\"),\n",
    "        ),\n",
    "        SpatialPadd(\n",
    "            spatial_size=(96, 96, 96),\n",
    "            keys=[\"image\", \"label\"]\n",
    "        ),\n",
    "        EnsureTyped(keys=[\"image\", \"label\"], device=device, track_meta=False),\n",
    "       \n",
    "#         RandCropByLabelClassesd(\n",
    "#             keys=[\"image\", \"label\"],\n",
    "#             label_key=\"label\",\n",
    "#             spatial_size=(96, 96, 96),\n",
    "#             num_samples=num_samples,\n",
    "#             num_classes=11,\n",
    "#             image_key=\"image\",\n",
    "#             image_threshold=0,\n",
    "#             allow_smaller=True\n",
    "#         ),\n",
    "        RandCropByPosNegLabeld(\n",
    "            keys=[\"image\", \"label\"],\n",
    "            label_key=\"label\",\n",
    "            spatial_size=(96, 96, 96),\n",
    "            pos=1,\n",
    "            neg=1,\n",
    "            num_samples=num_samples,\n",
    "            image_key=\"image\",\n",
    "            image_threshold=0,\n",
    "            allow_smaller=True\n",
    "        ),\n",
    "\n",
    "        RandFlipd(\n",
    "            keys=[\"image\", \"label\"],\n",
    "            spatial_axis=[0],\n",
    "            prob=0.10,\n",
    "        ),\n",
    "        RandFlipd(\n",
    "            keys=[\"image\", \"label\"],\n",
    "            spatial_axis=[1],\n",
    "            prob=0.10,\n",
    "        ),\n",
    "        RandFlipd(\n",
    "            keys=[\"image\", \"label\"],\n",
    "            spatial_axis=[2],\n",
    "            prob=0.10,\n",
    "        ),\n",
    "        RandRotate90d(\n",
    "            keys=[\"image\", \"label\"],\n",
    "            prob=0.10,\n",
    "            max_k=3,\n",
    "        ),\n",
    "        RandShiftIntensityd(\n",
    "            keys=[\"image\"],\n",
    "            offsets=0.10,\n",
    "            prob=0.50,\n",
    "        ),\n",
    "\n",
    "    ]\n",
    ")\n",
    "val_transforms = Compose(\n",
    "    [\n",
    "        LoadImaged(keys=[\"image\", \"label\"], ensure_channel_first=True, image_only=False),\n",
    "        CombineBinaryMaps(keys=[\"label\"], num_classes=10),\n",
    "        ScaleIntensityRanged(keys=[\"image\"], a_min=-175, a_max=250, b_min=0.0, b_max=1.0, clip=True),\n",
    "        CropForegroundd(keys=[\"image\", \"label\"], source_key=\"image\"),\n",
    "        Orientationd(keys=[\"image\", \"label\"], axcodes=\"RAS\"),\n",
    "        Spacingd(\n",
    "            keys=[\"image\", \"label\"],\n",
    "            pixdim=(1.5, 1.5, 2.0),\n",
    "            mode=(\"bilinear\", \"nearest\"),\n",
    "        ),\n",
    "        SpatialPadd(\n",
    "            spatial_size=(96, 96, 96),\n",
    "            keys=[\"image\", \"label\"]\n",
    "        ),\n",
    "        EnsureTyped(keys=[\"image\", \"label\"], device=device, track_meta=True),\n",
    "    ]\n",
    ")"
   ]
  },
  {
   "cell_type": "markdown",
   "id": "c9797df2",
   "metadata": {},
   "source": [
    "# Load Dataset"
   ]
  },
  {
   "cell_type": "code",
   "execution_count": 7,
   "id": "fdad2045",
   "metadata": {},
   "outputs": [],
   "source": [
    "def generate_file_path(root_path):\n",
    "    all_files = os.listdir(root_path)\n",
    "    return [{'image': f'{root_path}/{i}/ct.nii.gz',\n",
    "             'label': [f'{root_path}/{i}/segments/{f}' for f in os.listdir(f'{root_path}/{i}/segments')],\n",
    "#              'label': f'{root_path}/{i}/labels.nii.gz'\n",
    "\n",
    "            } \n",
    "            for i in all_files if os.path.isfile(f'{root_path}/{i}/ct.nii.gz')]\n",
    "\n",
    "def data_reader(file_addr):\n",
    "    # load the image data\n",
    "    image_read = nib.load(item[\"image\"])\n",
    "    image_data = image_read.get_fdata(dtype=np.float32)\n",
    "    header = image_read.header\n",
    "    # load the label data\n",
    "    label_data = nib.load(item[\"label\"]).get_fdata(dtype=np.float32)\n",
    "    # Extract the metadata from the header\n",
    "    metadata = {'dim': header.get_data_shape(),\n",
    "                'pixdim': header.get_zooms(),\n",
    "                'affine': header.get_qform()}\n",
    "    data = {\n",
    "        'image': image_data,\n",
    "        'label': label_data,\n",
    "        'metadata': metadata,\n",
    "    }\n",
    "    return data"
   ]
  },
  {
   "cell_type": "code",
   "execution_count": 8,
   "id": "4b35b04a",
   "metadata": {},
   "outputs": [],
   "source": [
    "root = 'Dataset'\n",
    "file_list_train = generate_file_path(root_path=f'{root}/train')\n",
    "file_list_val = generate_file_path(root_path=f'{root}/val')"
   ]
  },
  {
   "cell_type": "code",
   "execution_count": 9,
   "id": "12093c2d",
   "metadata": {},
   "outputs": [],
   "source": [
    "def collate_fn(batch):\n",
    "    transform = SpatialPad(\n",
    "            (96, 96, 96),\n",
    "        )\n",
    "#     print([item for item in batch[0]])\n",
    "    images = [transform(item[\"image\"]) for item in batch[0]]\n",
    "    labels = [transform(item[\"label\"]) for item in batch[0]]\n",
    "#     print(images.shape, labels.shape)\n",
    "    return {\"image\": torch.stack(images),\n",
    "           \"label\":torch.stack(labels)}"
   ]
  },
  {
   "cell_type": "code",
   "execution_count": 10,
   "id": "a5ba7b62",
   "metadata": {},
   "outputs": [],
   "source": [
    "train_ds = PersistentDataset(\n",
    "    data=file_list_train,\n",
    "    transform=train_transforms,\n",
    "    cache_dir='train_unet'\n",
    ")\n",
    "\n",
    "train_loader = ThreadDataLoader(train_ds, batch_size=1, shuffle=True,\n",
    "                                collate_fn=lambda x: pad_list_data_collate(x, pad_to_shape=(96, 96, 96))\n",
    "                               )"
   ]
  },
  {
   "cell_type": "code",
   "execution_count": 11,
   "id": "af87b9bb",
   "metadata": {},
   "outputs": [],
   "source": [
    "val_ds = PersistentDataset(\n",
    "    data=file_list_val,\n",
    "    transform=val_transforms,\n",
    "    cache_dir='val'\n",
    "#     cache_dir='C:/Training/val'\n",
    ")\n",
    "\n",
    "val_loader = ThreadDataLoader(val_ds, batch_size=1, \n",
    "                              collate_fn=lambda x: pad_list_data_collate(x, pad_to_shape=(96, 96, 96)))"
   ]
  },
  {
   "cell_type": "code",
   "execution_count": null,
   "id": "0f84088c",
   "metadata": {},
   "outputs": [],
   "source": []
  },
  {
   "cell_type": "markdown",
   "id": "7ff890e5",
   "metadata": {},
   "source": [
    "# Model"
   ]
  },
  {
   "cell_type": "code",
   "execution_count": 12,
   "id": "de0a8a29",
   "metadata": {},
   "outputs": [],
   "source": [
    "class EarlyStopping:\n",
    "    def __init__(self, tolerance=5, min_delta=0):\n",
    "\n",
    "        self.tolerance = tolerance\n",
    "        self.min_delta = min_delta\n",
    "        self.best_loss = None\n",
    "        self.counter = 0\n",
    "        self.early_stop = False\n",
    "\n",
    "    def __call__(self, loss):\n",
    "        if self.best_loss is None:\n",
    "            self.best_loss = loss\n",
    "        else:\n",
    "            if (self.best_loss - loss) > self.min_delta:\n",
    "                self.best_loss = loss\n",
    "                self.counter = 0\n",
    "            else:\n",
    "                self.counter += 1\n",
    "                print(f'Early Stopping patience: {self.counter}, best loss: {self.best_loss}, current_loss: {loss}')\n",
    "                if self.counter >= self.tolerance:  \n",
    "                    self.early_stop = True"
   ]
  },
  {
   "cell_type": "code",
   "execution_count": 13,
   "id": "0a6c1475",
   "metadata": {},
   "outputs": [
    {
     "name": "stdout",
     "output_type": "stream",
     "text": [
      "Number of available GPUs: 1\n",
      "GPU 0: GeForce RTX 2080 Ti\n"
     ]
    }
   ],
   "source": [
    "if torch.cuda.is_available():\n",
    "    device_count = torch.cuda.device_count()\n",
    "    print(f\"Number of available GPUs: {device_count}\")\n",
    "    for i in range(device_count):\n",
    "        print(f\"GPU {i}: {torch.cuda.get_device_name(i)}\")\n",
    "else:\n",
    "    print(\"No GPU found, using CPU instead.\")"
   ]
  },
  {
   "cell_type": "code",
   "execution_count": 14,
   "id": "c6d51d49",
   "metadata": {},
   "outputs": [
    {
     "name": "stdout",
     "output_type": "stream",
     "text": [
      "cuda\n"
     ]
    }
   ],
   "source": [
    "os.environ[\"CUDA_DEVICE_ORDER\"] = \"PCI_BUS_ID\"\n",
    "device = torch.device(\"cuda\" if torch.cuda.is_available() else \"cpu\")\n",
    "print(device)\n",
    "model = UNet(\n",
    "              spatial_dims=3,\n",
    "              in_channels=1,\n",
    "              out_channels=11,\n",
    "              channels=(16, 32, 64, 128, 256),\n",
    "              strides=(2, 2, 2, 2),\n",
    "              num_res_units=2,\n",
    "              norm=Norm.BATCH\n",
    "                ).to(device)"
   ]
  },
  {
   "cell_type": "code",
   "execution_count": 15,
   "id": "20b75b45",
   "metadata": {},
   "outputs": [],
   "source": [
    "torch.backends.cudnn.benchmark = True\n",
    "early_stopping = EarlyStopping(tolerance=10, min_delta=0.001)\n",
    "loss_function = DiceCELoss(to_onehot_y=True, softmax=True, lambda_dice=0, lambda_ce=1)\n",
    "bd_loss =  BDLoss()\n",
    "optimizer = torch.optim.AdamW(model.parameters(), lr=1e-4, weight_decay=1e-5)\n",
    "scheduler = ReduceLROnPlateau(optimizer, patience=10, verbose=True, mode='min', min_lr=1e-8, factor=0.9)\n",
    "scaler = torch.cuda.amp.GradScaler()"
   ]
  },
  {
   "cell_type": "code",
   "execution_count": 16,
   "id": "c967d45a",
   "metadata": {},
   "outputs": [],
   "source": [
    "transform = SpatialPad(\n",
    "            (1, 96, 96, 96),\n",
    "        )\n",
    "def validation(epoch_iterator_val):\n",
    "    model.eval()\n",
    "    model.to('cpu')\n",
    "    validation_loss = []\n",
    "    with torch.no_grad():\n",
    "        for batch in epoch_iterator_val:\n",
    "            val_inputs, val_labels = (batch[\"image\"].cpu(), batch[\"label\"].cpu())\n",
    "#             with torch.cuda.amp.autocast():\n",
    "            val_outputs = sliding_window_inference(val_inputs, (96, 96, 96), num_samples, model)\n",
    "            val_labels_list = decollate_batch(val_labels)\n",
    "            val_labels_convert = [post_label(val_label_tensor) for val_label_tensor in val_labels_list]\n",
    "            val_outputs_list = decollate_batch(val_outputs)\n",
    "            val_output_convert = [post_pred(val_pred_tensor) for val_pred_tensor in val_outputs_list]\n",
    "            \n",
    "            \n",
    "            loss = loss_function(val_outputs, val_labels).item()\n",
    "            val_output_convert = torch.stack(val_output_convert)\n",
    "            val_labels_convert = torch.stack(val_labels_convert)\n",
    "            boundry_loss = bd_loss(val_output_convert, val_labels_convert)\n",
    "            loss += 0.5 * boundry_loss.item()\n",
    "            \n",
    "            loss = torch.tensor(loss)\n",
    "            \n",
    "            validation_loss.append(loss.item())\n",
    "            dice_metric(y_pred=val_output_convert, y=val_labels_convert)\n",
    "            del val_output_convert, val_labels_convert, val_outputs\n",
    "#             epoch_iterator_val.set_description(f\"Validate (loss={loss.item():2.5f})\")\n",
    "            epoch_iterator_val.set_description(f\"Validate (loss={loss:2.5f}) (boundry_loss={0.5 * boundry_loss.item():2.5f})\")\n",
    "#             break\n",
    "        mean_dice_val = dice_metric.aggregate().item()\n",
    "        dice_metric.reset()\n",
    "#         val_inputs, val_labels = val_inputs.cpu(), val_labels.cpu()\n",
    "        mean_hausdorff = 0\n",
    "\n",
    "        validation_loss_mean = np.nanmean(np.nan_to_num(np.array(validation_loss),\n",
    "                                               nan=np.nan, posinf=np.nan, neginf=np.nan))\n",
    "\n",
    "        val_loss_values.append(validation_loss_mean)\n",
    "    return mean_dice_val, mean_hausdorff, validation_loss_mean\n",
    "\n",
    "\n",
    "\n",
    "        \n",
    "\n",
    "\n",
    "def train(global_step, train_loader, dice_val_best, global_step_best):\n",
    "    model.train()\n",
    "    model.to(device)\n",
    "    epoch_loss = 0\n",
    "    step = 0\n",
    "    epoch_iterator = tqdm(train_loader, desc=\"Training (X / X Steps) (loss=X.X)\", dynamic_ncols=True)\n",
    "    for step, batch in enumerate(epoch_iterator):\n",
    "        step += 1\n",
    "#         print(step)\n",
    "        x, y = (batch[\"image\"].cuda(), batch[\"label\"].cuda())\n",
    "#         a = all(t.shape == x.shape for t in y)\n",
    "        if x.shape != y.shape:\n",
    "            print(x.shape, y.shape)\n",
    "        with torch.cuda.amp.autocast():\n",
    "            logit_map = model(x)\n",
    "            loss = loss_function(logit_map, y)\n",
    "\n",
    "\n",
    "        scaler.scale(loss).backward()\n",
    "        y_one_hot = [post_label(y_tensor) for y_tensor in y]\n",
    "        y_one_hot = torch.stack(y_one_hot)\n",
    "        boundry_loss = bd_loss(logit_map, y)\n",
    "        epoch_loss += loss.item() + 0.5 * boundry_loss.item()\n",
    "\n",
    "\n",
    "        if torch.isnan(loss):\n",
    "            print(torch.max(x), torch.min(x))\n",
    "            \n",
    "        scaler.unscale_(optimizer)\n",
    "\n",
    "        scaler.step(optimizer)\n",
    "\n",
    "        scaler.update()\n",
    "        optimizer.zero_grad()\n",
    "\n",
    "        # epoch_iterator.set_description(f\"Training ({global_step} / {max_iterations} Steps) (loss={loss.item():2.5f})\")\n",
    "        epoch_iterator.set_description(f\"Training ({global_step} / {max_iterations} Steps) (loss={loss.item() + (0.5 * boundry_loss.item()):2.5f}) (boundry_loss={0.5 * boundry_loss.item():2.5f})\")\n",
    "        global_step += 1\n",
    "#         break\n",
    "       \n",
    "\n",
    "    epoch_loss /= step\n",
    "    return global_step, dice_val_best, global_step_best, epoch_loss"
   ]
  },
  {
   "cell_type": "code",
   "execution_count": null,
   "id": "38b6f5d4",
   "metadata": {},
   "outputs": [
    {
     "name": "stderr",
     "output_type": "stream",
     "text": [
      "Training (356 / 90000 Steps) (loss=0.79288) (boundry_loss=0.09332): 100%|████████████████████████████████████████████████████████████████████████████████████████████████████████████████| 357/357 [28:29<00:00,  4.79s/it]\n",
      "Validate (loss=0.46591) (boundry_loss=0.13497): 100%|██████████████████████████████████████████████████████████████████████████████████████████████████████████████████████████████████████| 24/24 [16:11<00:00, 40.48s/it]\n"
     ]
    },
    {
     "name": "stdout",
     "output_type": "stream",
     "text": [
      "Mean Hausdorff disatnce: 0\n",
      "Model Was Saved ! Current Best Avg. Dice: 0.16475023329257965 Current Avg. Dice: 0.16475023329257965\n"
     ]
    },
    {
     "name": "stderr",
     "output_type": "stream",
     "text": [
      "Training (713 / 90000 Steps) (loss=0.66464) (boundry_loss=0.07841): 100%|████████████████████████████████████████████████████████████████████████████████████████████████████████████████| 357/357 [21:58<00:00,  3.69s/it]\n",
      "Validate (loss=0.34851) (boundry_loss=0.12838): 100%|██████████████████████████████████████████████████████████████████████████████████████████████████████████████████████████████████████| 24/24 [14:15<00:00, 35.63s/it]\n"
     ]
    },
    {
     "name": "stdout",
     "output_type": "stream",
     "text": [
      "Mean Hausdorff disatnce: 0\n",
      "Model Was Saved ! Current Best Avg. Dice: 0.18481862545013428 Current Avg. Dice: 0.18481862545013428\n"
     ]
    },
    {
     "name": "stderr",
     "output_type": "stream",
     "text": [
      "Training (1070 / 90000 Steps) (loss=0.92021) (boundry_loss=0.09025): 100%|███████████████████████████████████████████████████████████████████████████████████████████████████████████████| 357/357 [22:00<00:00,  3.70s/it]\n",
      "Validate (loss=0.32070) (boundry_loss=0.13105): 100%|██████████████████████████████████████████████████████████████████████████████████████████████████████████████████████████████████████| 24/24 [14:53<00:00, 37.25s/it]\n"
     ]
    },
    {
     "name": "stdout",
     "output_type": "stream",
     "text": [
      "Mean Hausdorff disatnce: 0\n",
      "Model Was Saved ! Current Best Avg. Dice: 0.2350790947675705 Current Avg. Dice: 0.2350790947675705\n"
     ]
    },
    {
     "name": "stderr",
     "output_type": "stream",
     "text": [
      "Training (1427 / 90000 Steps) (loss=0.96475) (boundry_loss=0.10658): 100%|███████████████████████████████████████████████████████████████████████████████████████████████████████████████| 357/357 [22:43<00:00,  3.82s/it]\n",
      "Validate (loss=0.33933) (boundry_loss=0.13080): 100%|██████████████████████████████████████████████████████████████████████████████████████████████████████████████████████████████████████| 24/24 [14:50<00:00, 37.11s/it]\n"
     ]
    },
    {
     "name": "stdout",
     "output_type": "stream",
     "text": [
      "Mean Hausdorff disatnce: 0\n",
      "Model Was Saved ! Current Best Avg. Dice: 0.316211074590683 Current Avg. Dice: 0.316211074590683\n"
     ]
    },
    {
     "name": "stderr",
     "output_type": "stream",
     "text": [
      "Training (1784 / 90000 Steps) (loss=0.54841) (boundry_loss=0.09948): 100%|███████████████████████████████████████████████████████████████████████████████████████████████████████████████| 357/357 [22:28<00:00,  3.78s/it]\n",
      "Validate (loss=0.27143) (boundry_loss=0.12945): 100%|██████████████████████████████████████████████████████████████████████████████████████████████████████████████████████████████████████| 24/24 [14:52<00:00, 37.17s/it]\n"
     ]
    },
    {
     "name": "stdout",
     "output_type": "stream",
     "text": [
      "Mean Hausdorff disatnce: 0\n",
      "Model Was Saved ! Current Best Avg. Dice: 0.3960047662258148 Current Avg. Dice: 0.3960047662258148\n"
     ]
    },
    {
     "name": "stderr",
     "output_type": "stream",
     "text": [
      "Training (2141 / 90000 Steps) (loss=0.93962) (boundry_loss=0.12060): 100%|███████████████████████████████████████████████████████████████████████████████████████████████████████████████| 357/357 [22:03<00:00,  3.71s/it]\n",
      "Validate (loss=0.26104) (boundry_loss=0.12911): 100%|██████████████████████████████████████████████████████████████████████████████████████████████████████████████████████████████████████| 24/24 [14:51<00:00, 37.15s/it]\n"
     ]
    },
    {
     "name": "stdout",
     "output_type": "stream",
     "text": [
      "Mean Hausdorff disatnce: 0\n",
      "Model Was Saved ! Current Best Avg. Dice: 0.46337518095970154 Current Avg. Dice: 0.46337518095970154\n"
     ]
    },
    {
     "name": "stderr",
     "output_type": "stream",
     "text": [
      "Training (2498 / 90000 Steps) (loss=0.48506) (boundry_loss=0.11070): 100%|███████████████████████████████████████████████████████████████████████████████████████████████████████████████| 357/357 [22:05<00:00,  3.71s/it]\n",
      "Validate (loss=0.23949) (boundry_loss=0.12826): 100%|██████████████████████████████████████████████████████████████████████████████████████████████████████████████████████████████████████| 24/24 [14:50<00:00, 37.12s/it]\n"
     ]
    },
    {
     "name": "stdout",
     "output_type": "stream",
     "text": [
      "Mean Hausdorff disatnce: 0\n",
      "Model Was Saved ! Current Best Avg. Dice: 0.48755553364753723 Current Avg. Dice: 0.48755553364753723\n"
     ]
    },
    {
     "name": "stderr",
     "output_type": "stream",
     "text": [
      "Training (2855 / 90000 Steps) (loss=0.62626) (boundry_loss=0.08989): 100%|███████████████████████████████████████████████████████████████████████████████████████████████████████████████| 357/357 [21:54<00:00,  3.68s/it]\n",
      "Validate (loss=0.22416) (boundry_loss=0.12008): 100%|██████████████████████████████████████████████████████████████████████████████████████████████████████████████████████████████████████| 24/24 [14:17<00:00, 35.74s/it]\n"
     ]
    },
    {
     "name": "stdout",
     "output_type": "stream",
     "text": [
      "Mean Hausdorff disatnce: 0\n",
      "Model Was Not Saved ! Current Best Avg. Dice: 0.48755553364753723 Current Avg. Dice: 0.48542484641075134\n"
     ]
    },
    {
     "name": "stderr",
     "output_type": "stream",
     "text": [
      "Training (3212 / 90000 Steps) (loss=0.25904) (boundry_loss=0.07263): 100%|███████████████████████████████████████████████████████████████████████████████████████████████████████████████| 357/357 [21:39<00:00,  3.64s/it]\n",
      "Validate (loss=0.20278) (boundry_loss=0.12015): 100%|██████████████████████████████████████████████████████████████████████████████████████████████████████████████████████████████████████| 24/24 [14:17<00:00, 35.73s/it]\n"
     ]
    },
    {
     "name": "stdout",
     "output_type": "stream",
     "text": [
      "Mean Hausdorff disatnce: 0\n",
      "Model Was Saved ! Current Best Avg. Dice: 0.5135183334350586 Current Avg. Dice: 0.5135183334350586\n"
     ]
    },
    {
     "name": "stderr",
     "output_type": "stream",
     "text": [
      "Training (3569 / 90000 Steps) (loss=0.79974) (boundry_loss=0.12985): 100%|███████████████████████████████████████████████████████████████████████████████████████████████████████████████| 357/357 [21:41<00:00,  3.64s/it]\n",
      "Validate (loss=0.19245) (boundry_loss=0.12216): 100%|██████████████████████████████████████████████████████████████████████████████████████████████████████████████████████████████████████| 24/24 [14:22<00:00, 35.96s/it]\n"
     ]
    },
    {
     "name": "stdout",
     "output_type": "stream",
     "text": [
      "Mean Hausdorff disatnce: 0\n",
      "Model Was Saved ! Current Best Avg. Dice: 0.550765872001648 Current Avg. Dice: 0.550765872001648\n"
     ]
    },
    {
     "name": "stderr",
     "output_type": "stream",
     "text": [
      "Training (3926 / 90000 Steps) (loss=0.41322) (boundry_loss=0.13294): 100%|███████████████████████████████████████████████████████████████████████████████████████████████████████████████| 357/357 [21:25<00:00,  3.60s/it]\n",
      "Validate (loss=0.18929) (boundry_loss=0.11991): 100%|██████████████████████████████████████████████████████████████████████████████████████████████████████████████████████████████████████| 24/24 [14:19<00:00, 35.83s/it]\n"
     ]
    },
    {
     "name": "stdout",
     "output_type": "stream",
     "text": [
      "Early Stopping patience: 1, best loss: 0.2548219735423724, current_loss: 0.26379696155587834\n",
      "Mean Hausdorff disatnce: 0\n",
      "Model Was Saved ! Current Best Avg. Dice: 0.581284761428833 Current Avg. Dice: 0.581284761428833\n"
     ]
    },
    {
     "name": "stderr",
     "output_type": "stream",
     "text": [
      "Training (4283 / 90000 Steps) (loss=0.30923) (boundry_loss=0.12282): 100%|███████████████████████████████████████████████████████████████████████████████████████████████████████████████| 357/357 [21:59<00:00,  3.70s/it]\n",
      "Validate (loss=0.19325) (boundry_loss=0.12952): 100%|██████████████████████████████████████████████████████████████████████████████████████████████████████████████████████████████████████| 24/24 [14:20<00:00, 35.87s/it]\n"
     ]
    },
    {
     "name": "stdout",
     "output_type": "stream",
     "text": [
      "Mean Hausdorff disatnce: 0\n",
      "Model Was Saved ! Current Best Avg. Dice: 0.6461860537528992 Current Avg. Dice: 0.6461860537528992\n"
     ]
    },
    {
     "name": "stderr",
     "output_type": "stream",
     "text": [
      "Training (4640 / 90000 Steps) (loss=0.45989) (boundry_loss=0.11248): 100%|███████████████████████████████████████████████████████████████████████████████████████████████████████████████| 357/357 [21:47<00:00,  3.66s/it]\n",
      "Validate (loss=0.18514) (boundry_loss=0.12458): 100%|██████████████████████████████████████████████████████████████████████████████████████████████████████████████████████████████████████| 24/24 [14:21<00:00, 35.90s/it]\n"
     ]
    },
    {
     "name": "stdout",
     "output_type": "stream",
     "text": [
      "Early Stopping patience: 1, best loss: 0.24458453431725502, current_loss: 0.25006442579130334\n",
      "Mean Hausdorff disatnce: 0\n",
      "Model Was Saved ! Current Best Avg. Dice: 0.6756787300109863 Current Avg. Dice: 0.6756787300109863\n"
     ]
    },
    {
     "name": "stderr",
     "output_type": "stream",
     "text": [
      "Training (4997 / 90000 Steps) (loss=0.45923) (boundry_loss=0.14132): 100%|███████████████████████████████████████████████████████████████████████████████████████████████████████████████| 357/357 [21:43<00:00,  3.65s/it]\n",
      "Validate (loss=0.19222) (boundry_loss=0.12006): 100%|██████████████████████████████████████████████████████████████████████████████████████████████████████████████████████████████████████| 24/24 [14:55<00:00, 37.30s/it]\n"
     ]
    },
    {
     "name": "stdout",
     "output_type": "stream",
     "text": [
      "Mean Hausdorff disatnce: 0\n",
      "Model Was Not Saved ! Current Best Avg. Dice: 0.6756787300109863 Current Avg. Dice: 0.6703160405158997\n"
     ]
    },
    {
     "name": "stderr",
     "output_type": "stream",
     "text": [
      "Training (5354 / 90000 Steps) (loss=0.16815) (boundry_loss=0.07560): 100%|███████████████████████████████████████████████████████████████████████████████████████████████████████████████| 357/357 [22:20<00:00,  3.75s/it]\n",
      "Validate (loss=0.23482) (boundry_loss=0.18412): 100%|██████████████████████████████████████████████████████████████████████████████████████████████████████████████████████████████████████| 24/24 [14:49<00:00, 37.08s/it]\n"
     ]
    },
    {
     "name": "stdout",
     "output_type": "stream",
     "text": [
      "Mean Hausdorff disatnce: 0\n",
      "Model Was Saved ! Current Best Avg. Dice: 0.7515194416046143 Current Avg. Dice: 0.7515194416046143\n"
     ]
    },
    {
     "name": "stderr",
     "output_type": "stream",
     "text": [
      "Training (5711 / 90000 Steps) (loss=0.32628) (boundry_loss=0.16360): 100%|███████████████████████████████████████████████████████████████████████████████████████████████████████████████| 357/357 [22:19<00:00,  3.75s/it]\n",
      "Validate (loss=0.16515) (boundry_loss=0.11207): 100%|██████████████████████████████████████████████████████████████████████████████████████████████████████████████████████████████████████| 24/24 [14:47<00:00, 36.99s/it]\n"
     ]
    },
    {
     "name": "stdout",
     "output_type": "stream",
     "text": [
      "Early Stopping patience: 1, best loss: 0.2307204802831014, current_loss: 0.23395635560154915\n",
      "Mean Hausdorff disatnce: 0\n",
      "Model Was Not Saved ! Current Best Avg. Dice: 0.7515194416046143 Current Avg. Dice: 0.7233267426490784\n"
     ]
    },
    {
     "name": "stderr",
     "output_type": "stream",
     "text": [
      "Training (6068 / 90000 Steps) (loss=0.37163) (boundry_loss=0.13007): 100%|███████████████████████████████████████████████████████████████████████████████████████████████████████████████| 357/357 [22:55<00:00,  3.85s/it]\n",
      "Validate (loss=0.23576) (boundry_loss=0.18321): 100%|██████████████████████████████████████████████████████████████████████████████████████████████████████████████████████████████████████| 24/24 [14:48<00:00, 37.02s/it]\n"
     ]
    },
    {
     "name": "stdout",
     "output_type": "stream",
     "text": [
      "Early Stopping patience: 2, best loss: 0.2307204802831014, current_loss: 0.23417712623874345\n",
      "Mean Hausdorff disatnce: 0\n",
      "Model Was Saved ! Current Best Avg. Dice: 0.7557210922241211 Current Avg. Dice: 0.7557210922241211\n"
     ]
    },
    {
     "name": "stderr",
     "output_type": "stream",
     "text": [
      "Training (6425 / 90000 Steps) (loss=0.48681) (boundry_loss=0.14322): 100%|███████████████████████████████████████████████████████████████████████████████████████████████████████████████| 357/357 [22:52<00:00,  3.85s/it]\n",
      "Validate (loss=0.16783) (boundry_loss=0.11994): 100%|██████████████████████████████████████████████████████████████████████████████████████████████████████████████████████████████████████| 24/24 [14:49<00:00, 37.05s/it]\n"
     ]
    },
    {
     "name": "stdout",
     "output_type": "stream",
     "text": [
      "Mean Hausdorff disatnce: 0\n",
      "Model Was Saved ! Current Best Avg. Dice: 0.7876184582710266 Current Avg. Dice: 0.7876184582710266\n"
     ]
    },
    {
     "name": "stderr",
     "output_type": "stream",
     "text": [
      "Training (6782 / 90000 Steps) (loss=0.25813) (boundry_loss=0.13045): 100%|███████████████████████████████████████████████████████████████████████████████████████████████████████████████| 357/357 [22:13<00:00,  3.74s/it]\n",
      "Validate (loss=0.22968) (boundry_loss=0.18413): 100%|██████████████████████████████████████████████████████████████████████████████████████████████████████████████████████████████████████| 24/24 [14:52<00:00, 37.17s/it]\n"
     ]
    },
    {
     "name": "stdout",
     "output_type": "stream",
     "text": [
      "Early Stopping patience: 1, best loss: 0.21239838811258474, current_loss: 0.21547217977543673\n",
      "Mean Hausdorff disatnce: 0\n",
      "Model Was Not Saved ! Current Best Avg. Dice: 0.7876184582710266 Current Avg. Dice: 0.7802665829658508\n"
     ]
    },
    {
     "name": "stderr",
     "output_type": "stream",
     "text": [
      "Training (7139 / 90000 Steps) (loss=0.31086) (boundry_loss=0.12343): 100%|███████████████████████████████████████████████████████████████████████████████████████████████████████████████| 357/357 [22:34<00:00,  3.79s/it]\n",
      "Validate (loss=0.16092) (boundry_loss=0.12028): 100%|██████████████████████████████████████████████████████████████████████████████████████████████████████████████████████████████████████| 24/24 [14:52<00:00, 37.20s/it]\n"
     ]
    },
    {
     "name": "stdout",
     "output_type": "stream",
     "text": [
      "Early Stopping patience: 2, best loss: 0.21239838811258474, current_loss: 0.2196149074782928\n",
      "Mean Hausdorff disatnce: 0\n",
      "Model Was Not Saved ! Current Best Avg. Dice: 0.7876184582710266 Current Avg. Dice: 0.7779017090797424\n"
     ]
    },
    {
     "name": "stderr",
     "output_type": "stream",
     "text": [
      "Training (7496 / 90000 Steps) (loss=0.24459) (boundry_loss=0.10345): 100%|███████████████████████████████████████████████████████████████████████████████████████████████████████████████| 357/357 [22:12<00:00,  3.73s/it]\n",
      "Validate (loss=0.20757) (boundry_loss=0.15168): 100%|██████████████████████████████████████████████████████████████████████████████████████████████████████████████████████████████████████| 24/24 [14:49<00:00, 37.06s/it]\n"
     ]
    },
    {
     "name": "stdout",
     "output_type": "stream",
     "text": [
      "Early Stopping patience: 3, best loss: 0.21239838811258474, current_loss: 0.22525907618304095\n",
      "Mean Hausdorff disatnce: 0\n",
      "Model Was Not Saved ! Current Best Avg. Dice: 0.7876184582710266 Current Avg. Dice: 0.7644237875938416\n"
     ]
    },
    {
     "name": "stderr",
     "output_type": "stream",
     "text": [
      "Training (7853 / 90000 Steps) (loss=0.54546) (boundry_loss=0.09675): 100%|███████████████████████████████████████████████████████████████████████████████████████████████████████████████| 357/357 [22:19<00:00,  3.75s/it]\n",
      "Validate (loss=0.18294) (boundry_loss=0.14175): 100%|██████████████████████████████████████████████████████████████████████████████████████████████████████████████████████████████████████| 24/24 [14:50<00:00, 37.11s/it]\n"
     ]
    },
    {
     "name": "stdout",
     "output_type": "stream",
     "text": [
      "Early Stopping patience: 4, best loss: 0.21239838811258474, current_loss: 0.2136996624370416\n",
      "Mean Hausdorff disatnce: 0\n",
      "Model Was Not Saved ! Current Best Avg. Dice: 0.7876184582710266 Current Avg. Dice: 0.7612895965576172\n"
     ]
    },
    {
     "name": "stderr",
     "output_type": "stream",
     "text": [
      "Training (8210 / 90000 Steps) (loss=0.24606) (boundry_loss=0.14864): 100%|███████████████████████████████████████████████████████████████████████████████████████████████████████████████| 357/357 [22:25<00:00,  3.77s/it]\n",
      "Validate (loss=0.24092) (boundry_loss=0.20260): 100%|██████████████████████████████████████████████████████████████████████████████████████████████████████████████████████████████████████| 24/24 [14:50<00:00, 37.10s/it]\n"
     ]
    },
    {
     "name": "stdout",
     "output_type": "stream",
     "text": [
      "Mean Hausdorff disatnce: 0\n",
      "Model Was Saved ! Current Best Avg. Dice: 0.8128340244293213 Current Avg. Dice: 0.8128340244293213\n"
     ]
    },
    {
     "name": "stderr",
     "output_type": "stream",
     "text": [
      "Training (8567 / 90000 Steps) (loss=0.26123) (boundry_loss=0.16793): 100%|███████████████████████████████████████████████████████████████████████████████████████████████████████████████| 357/357 [22:46<00:00,  3.83s/it]\n",
      "Validate (loss=0.16192) (boundry_loss=0.12765): 100%|██████████████████████████████████████████████████████████████████████████████████████████████████████████████████████████████████████| 24/24 [14:52<00:00, 37.20s/it]\n"
     ]
    },
    {
     "name": "stdout",
     "output_type": "stream",
     "text": [
      "Mean Hausdorff disatnce: 0\n",
      "Model Was Not Saved ! Current Best Avg. Dice: 0.8128340244293213 Current Avg. Dice: 0.8064508438110352\n"
     ]
    },
    {
     "name": "stderr",
     "output_type": "stream",
     "text": [
      "Training (8924 / 90000 Steps) (loss=0.18230) (boundry_loss=0.10131): 100%|███████████████████████████████████████████████████████████████████████████████████████████████████████████████| 357/357 [21:54<00:00,  3.68s/it]\n",
      "Validate (loss=0.14613) (boundry_loss=0.11220): 100%|██████████████████████████████████████████████████████████████████████████████████████████████████████████████████████████████████████| 24/24 [14:50<00:00, 37.10s/it]\n"
     ]
    },
    {
     "name": "stdout",
     "output_type": "stream",
     "text": [
      "Early Stopping patience: 1, best loss: 0.20429997270305952, current_loss: 0.2105207151422898\n",
      "Mean Hausdorff disatnce: 0\n",
      "Model Was Not Saved ! Current Best Avg. Dice: 0.8128340244293213 Current Avg. Dice: 0.7937378287315369\n"
     ]
    },
    {
     "name": "stderr",
     "output_type": "stream",
     "text": [
      "Training (9281 / 90000 Steps) (loss=0.39085) (boundry_loss=0.08605): 100%|███████████████████████████████████████████████████████████████████████████████████████████████████████████████| 357/357 [22:15<00:00,  3.74s/it]\n",
      "Validate (loss=0.20236) (boundry_loss=0.16693): 100%|██████████████████████████████████████████████████████████████████████████████████████████████████████████████████████████████████████| 24/24 [14:48<00:00, 37.03s/it]\n"
     ]
    },
    {
     "name": "stdout",
     "output_type": "stream",
     "text": [
      "Early Stopping patience: 2, best loss: 0.20429997270305952, current_loss: 0.20662488788366318\n",
      "Mean Hausdorff disatnce: 0\n",
      "Model Was Saved ! Current Best Avg. Dice: 0.8148201107978821 Current Avg. Dice: 0.8148201107978821\n"
     ]
    },
    {
     "name": "stderr",
     "output_type": "stream",
     "text": [
      "Training (9638 / 90000 Steps) (loss=0.37188) (boundry_loss=0.12455): 100%|███████████████████████████████████████████████████████████████████████████████████████████████████████████████| 357/357 [22:38<00:00,  3.81s/it]\n",
      "Validate (loss=0.21947) (boundry_loss=0.18424): 100%|██████████████████████████████████████████████████████████████████████████████████████████████████████████████████████████████████████| 24/24 [14:50<00:00, 37.12s/it]\n"
     ]
    },
    {
     "name": "stdout",
     "output_type": "stream",
     "text": [
      "Early Stopping patience: 3, best loss: 0.20429997270305952, current_loss: 0.22065956518054008\n",
      "Mean Hausdorff disatnce: 0\n",
      "Model Was Not Saved ! Current Best Avg. Dice: 0.8148201107978821 Current Avg. Dice: 0.8027877807617188\n"
     ]
    },
    {
     "name": "stderr",
     "output_type": "stream",
     "text": [
      "Training (9995 / 90000 Steps) (loss=0.29292) (boundry_loss=0.18704): 100%|███████████████████████████████████████████████████████████████████████████████████████████████████████████████| 357/357 [22:26<00:00,  3.77s/it]\n",
      "Validate (loss=0.15339) (boundry_loss=0.12252): 100%|██████████████████████████████████████████████████████████████████████████████████████████████████████████████████████████████████████| 24/24 [14:54<00:00, 37.27s/it]\n"
     ]
    },
    {
     "name": "stdout",
     "output_type": "stream",
     "text": [
      "Mean Hausdorff disatnce: 0\n",
      "Model Was Saved ! Current Best Avg. Dice: 0.8166172504425049 Current Avg. Dice: 0.8166172504425049\n"
     ]
    },
    {
     "name": "stderr",
     "output_type": "stream",
     "text": [
      "Training (10352 / 90000 Steps) (loss=0.25888) (boundry_loss=0.11231): 100%|██████████████████████████████████████████████████████████████████████████████████████████████████████████████| 357/357 [22:51<00:00,  3.84s/it]\n",
      "Validate (loss=0.22827) (boundry_loss=0.20196): 100%|██████████████████████████████████████████████████████████████████████████████████████████████████████████████████████████████████████| 24/24 [14:49<00:00, 37.05s/it]\n"
     ]
    },
    {
     "name": "stdout",
     "output_type": "stream",
     "text": [
      "Early Stopping patience: 1, best loss: 0.19588421067843834, current_loss: 0.20769899959365526\n",
      "Mean Hausdorff disatnce: 0\n",
      "Model Was Saved ! Current Best Avg. Dice: 0.8284004330635071 Current Avg. Dice: 0.8284004330635071\n"
     ]
    },
    {
     "name": "stderr",
     "output_type": "stream",
     "text": [
      "Training (10709 / 90000 Steps) (loss=0.31032) (boundry_loss=0.14599): 100%|██████████████████████████████████████████████████████████████████████████████████████████████████████████████| 357/357 [22:22<00:00,  3.76s/it]\n",
      "Validate (loss=0.23038) (boundry_loss=0.20308): 100%|██████████████████████████████████████████████████████████████████████████████████████████████████████████████████████████████████████| 24/24 [14:49<00:00, 37.08s/it]\n"
     ]
    },
    {
     "name": "stdout",
     "output_type": "stream",
     "text": [
      "Early Stopping patience: 2, best loss: 0.19588421067843834, current_loss: 0.20341051928699017\n",
      "Mean Hausdorff disatnce: 0\n",
      "Model Was Saved ! Current Best Avg. Dice: 0.8353163599967957 Current Avg. Dice: 0.8353163599967957\n"
     ]
    },
    {
     "name": "stderr",
     "output_type": "stream",
     "text": [
      "Training (11066 / 90000 Steps) (loss=0.24315) (boundry_loss=0.18099): 100%|██████████████████████████████████████████████████████████████████████████████████████████████████████████████| 357/357 [22:14<00:00,  3.74s/it]\n",
      "Validate (loss=0.17427) (boundry_loss=0.14642): 100%|██████████████████████████████████████████████████████████████████████████████████████████████████████████████████████████████████████| 24/24 [14:51<00:00, 37.16s/it]\n"
     ]
    },
    {
     "name": "stdout",
     "output_type": "stream",
     "text": [
      "Early Stopping patience: 3, best loss: 0.19588421067843834, current_loss: 0.1982802643130223\n",
      "Mean Hausdorff disatnce: 0\n",
      "Model Was Not Saved ! Current Best Avg. Dice: 0.8353163599967957 Current Avg. Dice: 0.8233138918876648\n"
     ]
    },
    {
     "name": "stderr",
     "output_type": "stream",
     "text": [
      "Training (11423 / 90000 Steps) (loss=0.15321) (boundry_loss=0.07682): 100%|██████████████████████████████████████████████████████████████████████████████████████████████████████████████| 357/357 [22:22<00:00,  3.76s/it]\n",
      "Validate (loss=0.17109) (boundry_loss=0.13745): 100%|██████████████████████████████████████████████████████████████████████████████████████████████████████████████████████████████████████| 24/24 [14:51<00:00, 37.16s/it]\n"
     ]
    },
    {
     "name": "stdout",
     "output_type": "stream",
     "text": [
      "Early Stopping patience: 4, best loss: 0.19588421067843834, current_loss: 0.19920471434791884\n",
      "Mean Hausdorff disatnce: 0\n",
      "Model Was Not Saved ! Current Best Avg. Dice: 0.8353163599967957 Current Avg. Dice: 0.834709644317627\n"
     ]
    },
    {
     "name": "stderr",
     "output_type": "stream",
     "text": [
      "Training (11780 / 90000 Steps) (loss=0.30225) (boundry_loss=0.17284): 100%|██████████████████████████████████████████████████████████████████████████████████████████████████████████████| 357/357 [22:42<00:00,  3.82s/it]\n",
      "Validate (loss=0.22986) (boundry_loss=0.20252): 100%|██████████████████████████████████████████████████████████████████████████████████████████████████████████████████████████████████████| 24/24 [14:52<00:00, 37.19s/it]\n"
     ]
    },
    {
     "name": "stdout",
     "output_type": "stream",
     "text": [
      "Early Stopping patience: 5, best loss: 0.19588421067843834, current_loss: 0.20372956121961275\n",
      "Mean Hausdorff disatnce: 0\n",
      "Model Was Saved ! Current Best Avg. Dice: 0.8371825218200684 Current Avg. Dice: 0.8371825218200684\n"
     ]
    },
    {
     "name": "stderr",
     "output_type": "stream",
     "text": [
      "Training (12137 / 90000 Steps) (loss=0.28764) (boundry_loss=0.16902): 100%|██████████████████████████████████████████████████████████████████████████████████████████████████████████████| 357/357 [22:45<00:00,  3.82s/it]\n",
      "Validate (loss=0.17351) (boundry_loss=0.14510): 100%|██████████████████████████████████████████████████████████████████████████████████████████████████████████████████████████████████████| 24/24 [14:53<00:00, 37.22s/it]\n"
     ]
    },
    {
     "name": "stdout",
     "output_type": "stream",
     "text": [
      "Mean Hausdorff disatnce: 0\n",
      "Model Was Saved ! Current Best Avg. Dice: 0.8416290879249573 Current Avg. Dice: 0.8416290879249573\n"
     ]
    },
    {
     "name": "stderr",
     "output_type": "stream",
     "text": [
      "Training (12494 / 90000 Steps) (loss=0.30004) (boundry_loss=0.19146): 100%|██████████████████████████████████████████████████████████████████████████████████████████████████████████████| 357/357 [22:41<00:00,  3.81s/it]\n",
      "Validate (loss=0.17035) (boundry_loss=0.14338): 100%|██████████████████████████████████████████████████████████████████████████████████████████████████████████████████████████████████████| 24/24 [14:51<00:00, 37.15s/it]\n"
     ]
    },
    {
     "name": "stdout",
     "output_type": "stream",
     "text": [
      "Early Stopping patience: 1, best loss: 0.19061669365813336, current_loss: 0.19126481749117374\n",
      "Mean Hausdorff disatnce: 0\n",
      "Model Was Saved ! Current Best Avg. Dice: 0.8491212725639343 Current Avg. Dice: 0.8491212725639343\n"
     ]
    },
    {
     "name": "stderr",
     "output_type": "stream",
     "text": [
      "Training (12851 / 90000 Steps) (loss=0.19818) (boundry_loss=0.11546): 100%|██████████████████████████████████████████████████████████████████████████████████████████████████████████████| 357/357 [22:07<00:00,  3.72s/it]\n",
      "Validate (loss=0.23495) (boundry_loss=0.20312): 100%|██████████████████████████████████████████████████████████████████████████████████████████████████████████████████████████████████████| 24/24 [14:51<00:00, 37.13s/it]\n"
     ]
    },
    {
     "name": "stdout",
     "output_type": "stream",
     "text": [
      "Early Stopping patience: 2, best loss: 0.19061669365813336, current_loss: 0.2121540488054355\n",
      "Mean Hausdorff disatnce: 0\n",
      "Model Was Not Saved ! Current Best Avg. Dice: 0.8491212725639343 Current Avg. Dice: 0.8389861583709717\n"
     ]
    },
    {
     "name": "stderr",
     "output_type": "stream",
     "text": [
      "Training (13208 / 90000 Steps) (loss=0.18240) (boundry_loss=0.13394): 100%|██████████████████████████████████████████████████████████████████████████████████████████████████████████████| 357/357 [23:15<00:00,  3.91s/it]\n",
      "Validate (loss=0.17757) (boundry_loss=0.14437): 100%|██████████████████████████████████████████████████████████████████████████████████████████████████████████████████████████████████████| 24/24 [16:48<00:00, 42.00s/it]\n"
     ]
    },
    {
     "name": "stdout",
     "output_type": "stream",
     "text": [
      "Early Stopping patience: 3, best loss: 0.19061669365813336, current_loss: 0.20911097154021263\n",
      "Mean Hausdorff disatnce: 0\n",
      "Model Was Not Saved ! Current Best Avg. Dice: 0.8491212725639343 Current Avg. Dice: 0.8198863863945007\n"
     ]
    },
    {
     "name": "stderr",
     "output_type": "stream",
     "text": [
      "Training (13565 / 90000 Steps) (loss=0.28706) (boundry_loss=0.14539): 100%|██████████████████████████████████████████████████████████████████████████████████████████████████████████████| 357/357 [23:52<00:00,  4.01s/it]\n",
      "Validate (loss=0.15637) (boundry_loss=0.12757): 100%|██████████████████████████████████████████████████████████████████████████████████████████████████████████████████████████████████████| 24/24 [16:40<00:00, 41.68s/it]\n"
     ]
    },
    {
     "name": "stdout",
     "output_type": "stream",
     "text": [
      "Early Stopping patience: 4, best loss: 0.19061669365813336, current_loss: 0.20153684293230376\n",
      "Mean Hausdorff disatnce: 0\n",
      "Model Was Not Saved ! Current Best Avg. Dice: 0.8491212725639343 Current Avg. Dice: 0.8428678512573242\n"
     ]
    },
    {
     "name": "stderr",
     "output_type": "stream",
     "text": [
      "Training (13922 / 90000 Steps) (loss=0.27217) (boundry_loss=0.16713): 100%|██████████████████████████████████████████████████████████████████████████████████████████████████████████████| 357/357 [22:53<00:00,  3.85s/it]\n",
      "Validate (loss=0.15988) (boundry_loss=0.13288): 100%|██████████████████████████████████████████████████████████████████████████████████████████████████████████████████████████████████████| 24/24 [15:04<00:00, 37.68s/it]\n"
     ]
    },
    {
     "name": "stdout",
     "output_type": "stream",
     "text": [
      "Early Stopping patience: 5, best loss: 0.19061669365813336, current_loss: 0.1938353752096494\n",
      "Mean Hausdorff disatnce: 0\n",
      "Model Was Saved ! Current Best Avg. Dice: 0.8499459624290466 Current Avg. Dice: 0.8499459624290466\n"
     ]
    },
    {
     "name": "stderr",
     "output_type": "stream",
     "text": [
      "Training (14279 / 90000 Steps) (loss=0.13184) (boundry_loss=0.10196): 100%|██████████████████████████████████████████████████████████████████████████████████████████████████████████████| 357/357 [24:41<00:00,  4.15s/it]\n",
      "Validate (loss=0.22713) (boundry_loss=0.20308): 100%|██████████████████████████████████████████████████████████████████████████████████████████████████████████████████████████████████████| 24/24 [17:39<00:00, 44.16s/it]\n"
     ]
    },
    {
     "name": "stdout",
     "output_type": "stream",
     "text": [
      "Early Stopping patience: 6, best loss: 0.19061669365813336, current_loss: 0.19991002697497606\n",
      "Mean Hausdorff disatnce: 0\n",
      "Model Was Saved ! Current Best Avg. Dice: 0.8600378036499023 Current Avg. Dice: 0.8600378036499023\n"
     ]
    },
    {
     "name": "stderr",
     "output_type": "stream",
     "text": [
      "Training (14636 / 90000 Steps) (loss=0.21900) (boundry_loss=0.15749): 100%|██████████████████████████████████████████████████████████████████████████████████████████████████████████████| 357/357 [22:30<00:00,  3.78s/it]\n",
      "Validate (loss=0.15987) (boundry_loss=0.13622): 100%|██████████████████████████████████████████████████████████████████████████████████████████████████████████████████████████████████████| 24/24 [15:01<00:00, 37.56s/it]\n"
     ]
    },
    {
     "name": "stdout",
     "output_type": "stream",
     "text": [
      "Early Stopping patience: 7, best loss: 0.19061669365813336, current_loss: 0.1973432544618845\n",
      "Mean Hausdorff disatnce: 0\n",
      "Model Was Not Saved ! Current Best Avg. Dice: 0.8600378036499023 Current Avg. Dice: 0.857234001159668\n"
     ]
    },
    {
     "name": "stderr",
     "output_type": "stream",
     "text": [
      "Training (14993 / 90000 Steps) (loss=0.25609) (boundry_loss=0.13943): 100%|██████████████████████████████████████████████████████████████████████████████████████████████████████████████| 357/357 [22:54<00:00,  3.85s/it]\n",
      "Validate (loss=0.16261) (boundry_loss=0.13600): 100%|██████████████████████████████████████████████████████████████████████████████████████████████████████████████████████████████████████| 24/24 [14:50<00:00, 37.10s/it]\n"
     ]
    },
    {
     "name": "stdout",
     "output_type": "stream",
     "text": [
      "Early Stopping patience: 8, best loss: 0.19061669365813336, current_loss: 0.19666872173547745\n",
      "Mean Hausdorff disatnce: 0\n",
      "Model Was Not Saved ! Current Best Avg. Dice: 0.8600378036499023 Current Avg. Dice: 0.8520368933677673\n"
     ]
    },
    {
     "name": "stderr",
     "output_type": "stream",
     "text": [
      "Training (15350 / 90000 Steps) (loss=0.13557) (boundry_loss=0.09958): 100%|██████████████████████████████████████████████████████████████████████████████████████████████████████████████| 357/357 [22:21<00:00,  3.76s/it]\n",
      "Validate (loss=0.17399) (boundry_loss=0.14652): 100%|██████████████████████████████████████████████████████████████████████████████████████████████████████████████████████████████████████| 24/24 [14:53<00:00, 37.21s/it]\n"
     ]
    },
    {
     "name": "stdout",
     "output_type": "stream",
     "text": [
      "Early Stopping patience: 9, best loss: 0.19061669365813336, current_loss: 0.20280423139532408\n",
      "Mean Hausdorff disatnce: 0\n",
      "Model Was Not Saved ! Current Best Avg. Dice: 0.8600378036499023 Current Avg. Dice: 0.8462654948234558\n"
     ]
    },
    {
     "name": "stderr",
     "output_type": "stream",
     "text": [
      "Training (15707 / 90000 Steps) (loss=0.31971) (boundry_loss=0.12115): 100%|██████████████████████████████████████████████████████████████████████████████████████████████████████████████| 357/357 [22:31<00:00,  3.79s/it]\n",
      "Validate (loss=0.16206) (boundry_loss=0.13524): 100%|██████████████████████████████████████████████████████████████████████████████████████████████████████████████████████████████████████| 24/24 [14:54<00:00, 37.29s/it]\n"
     ]
    },
    {
     "name": "stdout",
     "output_type": "stream",
     "text": [
      "Mean Hausdorff disatnce: 0\n",
      "Model Was Not Saved ! Current Best Avg. Dice: 0.8600378036499023 Current Avg. Dice: 0.8561299443244934\n"
     ]
    },
    {
     "name": "stderr",
     "output_type": "stream",
     "text": [
      "Training (16064 / 90000 Steps) (loss=0.22628) (boundry_loss=0.13629): 100%|██████████████████████████████████████████████████████████████████████████████████████████████████████████████| 357/357 [22:51<00:00,  3.84s/it]\n",
      "Validate (loss=0.20187) (boundry_loss=0.17978): 100%|██████████████████████████████████████████████████████████████████████████████████████████████████████████████████████████████████████| 24/24 [14:54<00:00, 37.26s/it]\n"
     ]
    },
    {
     "name": "stdout",
     "output_type": "stream",
     "text": [
      "Early Stopping patience: 1, best loss: 0.18547716115911803, current_loss: 0.19896695390343666\n",
      "Mean Hausdorff disatnce: 0\n",
      "Model Was Not Saved ! Current Best Avg. Dice: 0.8600378036499023 Current Avg. Dice: 0.8600283265113831\n"
     ]
    },
    {
     "name": "stderr",
     "output_type": "stream",
     "text": [
      "Training (16421 / 90000 Steps) (loss=0.24482) (boundry_loss=0.19200): 100%|██████████████████████████████████████████████████████████████████████████████████████████████████████████████| 357/357 [22:13<00:00,  3.73s/it]\n",
      "Validate (loss=0.14956) (boundry_loss=0.12753): 100%|██████████████████████████████████████████████████████████████████████████████████████████████████████████████████████████████████████| 24/24 [14:48<00:00, 37.02s/it]\n"
     ]
    },
    {
     "name": "stdout",
     "output_type": "stream",
     "text": [
      "Early Stopping patience: 2, best loss: 0.18547716115911803, current_loss: 0.18812828262646994\n",
      "Mean Hausdorff disatnce: 0\n",
      "Model Was Saved ! Current Best Avg. Dice: 0.8618780970573425 Current Avg. Dice: 0.8618780970573425\n"
     ]
    },
    {
     "name": "stderr",
     "output_type": "stream",
     "text": [
      "Training (16778 / 90000 Steps) (loss=0.26181) (boundry_loss=0.14116): 100%|██████████████████████████████████████████████████████████████████████████████████████████████████████████████| 357/357 [22:48<00:00,  3.83s/it]\n",
      "Validate (loss=0.15232) (boundry_loss=0.12612): 100%|██████████████████████████████████████████████████████████████████████████████████████████████████████████████████████████████████████| 24/24 [14:54<00:00, 37.28s/it]\n"
     ]
    },
    {
     "name": "stdout",
     "output_type": "stream",
     "text": [
      "Early Stopping patience: 3, best loss: 0.18547716115911803, current_loss: 0.19774808237950006\n",
      "Mean Hausdorff disatnce: 0\n",
      "Model Was Not Saved ! Current Best Avg. Dice: 0.8618780970573425 Current Avg. Dice: 0.8468939661979675\n"
     ]
    },
    {
     "name": "stderr",
     "output_type": "stream",
     "text": [
      "Training (17135 / 90000 Steps) (loss=0.31271) (boundry_loss=0.13466): 100%|██████████████████████████████████████████████████████████████████████████████████████████████████████████████| 357/357 [22:08<00:00,  3.72s/it]\n",
      "Validate (loss=0.16966) (boundry_loss=0.14606): 100%|██████████████████████████████████████████████████████████████████████████████████████████████████████████████████████████████████████| 24/24 [14:54<00:00, 37.28s/it]\n"
     ]
    },
    {
     "name": "stdout",
     "output_type": "stream",
     "text": [
      "Early Stopping patience: 4, best loss: 0.18547716115911803, current_loss: 0.19184713376065096\n",
      "Mean Hausdorff disatnce: 0\n",
      "Model Was Not Saved ! Current Best Avg. Dice: 0.8618780970573425 Current Avg. Dice: 0.8486043810844421\n"
     ]
    },
    {
     "name": "stderr",
     "output_type": "stream",
     "text": [
      "Training (17166 / 90000 Steps) (loss=0.24398) (boundry_loss=0.14731):   9%|█████████▋                                                                                                     | 31/357 [01:59<17:24,  3.20s/it]"
     ]
    }
   ],
   "source": [
    "max_iterations = 90000\n",
    "\n",
    "post_label = AsDiscrete(to_onehot=11)\n",
    "post_pred = AsDiscrete(argmax=True, to_onehot=11)\n",
    "\n",
    "dice_metric = DiceMetric(include_background=True, reduction=\"mean\", get_not_nans=False)\n",
    "hausdorff_metric = HausdorffDistanceMetric(include_background=True, get_not_nans=False, reduction=\"none\",\n",
    "                                           distance_metric=\"euclidean\")\n",
    "# remove this section future run\n",
    "global_step = 0\n",
    "dice_val_best = 0.0\n",
    "global_step_best = 0\n",
    "epoch_loss_values = []\n",
    "metric_values = []\n",
    "val_loss_values = []\n",
    "while global_step < max_iterations:\n",
    "    global_step, dice_val_best, global_step_best, epoch_loss = train(global_step, train_loader, dice_val_best, global_step_best)\n",
    "    epoch_iterator_val = tqdm(val_loader, desc=\"Validate\", dynamic_ncols=True)\n",
    "    dice_val, hausdorff_val, loss_val = validation(epoch_iterator_val)\n",
    "    scheduler.step(epoch_loss)\n",
    "    epoch_loss_values.append(epoch_loss)\n",
    "    metric_values.append(dice_val)\n",
    "    early_stopping(loss_val)\n",
    "    print(f'Mean Hausdorff disatnce: {hausdorff_val}')\n",
    "    if dice_val > dice_val_best:\n",
    "        dice_val_best = dice_val\n",
    "        global_step_best = global_step\n",
    "        torch.save(model.state_dict(), model_name)\n",
    "        print(\n",
    "            \"Model Was Saved ! Current Best Avg. Dice: {} Current Avg. Dice: {}\".format(dice_val_best, dice_val)\n",
    "        )\n",
    "    else:\n",
    "        print(\n",
    "            \"Model Was Not Saved ! Current Best Avg. Dice: {} Current Avg. Dice: {}\".format(\n",
    "                dice_val_best, dice_val\n",
    "            )\n",
    "        )\n",
    "    # early stopping\n",
    "    if early_stopping.early_stop:\n",
    "        break\n",
    "        \n",
    "model.load_state_dict(torch.load(model_name))"
   ]
  },
  {
   "cell_type": "code",
   "execution_count": null,
   "id": "1bd3263a",
   "metadata": {},
   "outputs": [],
   "source": [
    "# epoch_iterator_val = tqdm(val_loader, desc=\"Validate\", dynamic_ncols=True)\n",
    "# for batch in epoch_iterator_val:\n",
    "#  print(1)   "
   ]
  },
  {
   "cell_type": "code",
   "execution_count": null,
   "id": "15e90e58",
   "metadata": {},
   "outputs": [],
   "source": [
    "print(f\"train completed, best_metric: {dice_val_best:.4f} \" f\"at iteration: {global_step_best}\")"
   ]
  },
  {
   "cell_type": "code",
   "execution_count": null,
   "id": "3dc083e4",
   "metadata": {},
   "outputs": [],
   "source": [
    "eval_num = 357\n",
    "plt.figure(\"train\", (12, 6))\n",
    "plt.subplot(1, 2, 1)\n",
    "plt.title(\"Iteration Average Loss\")\n",
    "x = [eval_num * (i + 1) for i in range(len(epoch_loss_values))]\n",
    "y = epoch_loss_values\n",
    "plt.xlabel(\"Iteration\")\n",
    "plt.plot(x, y, label='Train')\n",
    "x = [eval_num * (i + 1) for i in range(len(val_loss_values))]\n",
    "y = val_loss_values\n",
    "plt.plot(x, y, label='Validation')\n",
    "plt.legend()\n",
    "plt.subplot(1, 2, 2)\n",
    "plt.title(\"Val Mean Dice\")\n",
    "x = [eval_num * (i + 1) for i in range(len(metric_values))]\n",
    "y = metric_values\n",
    "plt.xlabel(\"Iteration\")\n",
    "plt.plot(x, y)\n",
    "plt.show()"
   ]
  },
  {
   "cell_type": "code",
   "execution_count": null,
   "id": "7d7a5434",
   "metadata": {},
   "outputs": [],
   "source": [
    "model.load_state_dict(torch.load(model_name))\n",
    "model.eval()"
   ]
  },
  {
   "cell_type": "code",
   "execution_count": null,
   "id": "9ab8e496",
   "metadata": {},
   "outputs": [],
   "source": [
    "case_num = 4\n",
    "with torch.no_grad():\n",
    "    model.to('cpu')\n",
    "    img_name = os.path.split(val_ds[case_num][\"image\"].meta[\"filename_or_obj\"])[1]\n",
    "    img = val_ds[case_num][\"image\"]\n",
    "    label = val_ds[case_num][\"label\"]\n",
    "    val_inputs = torch.unsqueeze(img, 1).cpu()\n",
    "    val_labels = torch.unsqueeze(label, 1).cpu()\n",
    "    val_outputs = sliding_window_inference(val_inputs, (96, 96, 96), num_samples, model, overlap=0.8)\n",
    "    plt.figure(\"check\", (18, 6))\n",
    "    plt.subplot(1, 3, 1)\n",
    "    plt.title(\"image\")\n",
    "    plt.imshow(val_inputs.cpu().numpy()[0, 0, :, :, 200], cmap=\"gray\")\n",
    "    plt.subplot(1, 3, 2)\n",
    "    plt.title(\"label\")\n",
    "    plt.imshow(val_labels.cpu().numpy()[0, 0, :, :, 200])\n",
    "    plt.subplot(1, 3, 3)\n",
    "    plt.title(\"output\")\n",
    "    plt.imshow(torch.argmax(val_outputs, dim=1).detach().cpu()[0, :, :, 200])\n",
    "    plt.show()"
   ]
  },
  {
   "cell_type": "code",
   "execution_count": null,
   "id": "1880389c",
   "metadata": {},
   "outputs": [],
   "source": [
    "file_list_test = generate_file_path(root_path=f'{root}/test')\n",
    "test_ds = PersistentDataset(\n",
    "    data=file_list_test,\n",
    "    transform=val_transforms,\n",
    "    cache_dir='test'\n",
    "#     cache_dir='C:/Training/val'\n",
    ")\n",
    "\n",
    "test_loader = ThreadDataLoader(test_ds, num_workers=0, batch_size=1, \n",
    "                              collate_fn=lambda x: pad_list_data_collate(x, pad_to_shape=(96, 96, 96)))"
   ]
  },
  {
   "cell_type": "code",
   "execution_count": null,
   "id": "1d179da0",
   "metadata": {},
   "outputs": [],
   "source": [
    "def test(epoch_iterator_test):\n",
    "    model.eval()\n",
    "    test_loss = []\n",
    "    with torch.no_grad():\n",
    "        for batch in epoch_iterator_test:\n",
    "            test_inputs, test_labels = (batch[\"image\"].cpu(), batch[\"label\"].cpu())\n",
    "            with torch.cuda.amp.autocast():\n",
    "#                 test_outputs = sliding_window_inference(test_inputs, (96, 96, 96), num_samples, model, overlap=0.8)\n",
    "                test_outputs = sliding_window_inference(test_inputs, (96, 96, 96), num_samples, model)\n",
    "            test_labels_list = decollate_batch(test_labels)\n",
    "            test_labels_convert = [post_label(test_label_tensor) for test_label_tensor in test_labels_list]\n",
    "            test_outputs_list = decollate_batch(test_outputs)\n",
    "            test_output_convert = [post_pred(test_pred_tensor) for test_pred_tensor in test_outputs_list]\n",
    "            loss = loss_function(test_outputs, test_labels)\n",
    "            test_loss.append(loss.item())\n",
    "            dice_metric(y_pred=test_output_convert, y=test_labels_convert)\n",
    "            epoch_iterator_test.set_description(f\"Test (loss={loss.item():2.5f})\")\n",
    "        mean_dice_test = dice_metric.aggregate().item()\n",
    "        dice_metric.reset()\n",
    "\n",
    "        test_loss_mean = np.nanmean(np.nan_to_num(np.array(test_loss),\n",
    "                                               nan=np.nan, posinf=np.nan, neginf=np.nan))\n",
    "    return mean_dice_test, test_loss_mean"
   ]
  },
  {
   "cell_type": "code",
   "execution_count": null,
   "id": "c6863d31",
   "metadata": {},
   "outputs": [],
   "source": [
    "epoch_iterator_test = tqdm(test_loader, desc=\"Test\", dynamic_ncols=True)\n",
    "dice_test, loss_test = test(epoch_iterator_test)"
   ]
  },
  {
   "cell_type": "code",
   "execution_count": null,
   "id": "37de7a59",
   "metadata": {},
   "outputs": [],
   "source": [
    "print(f'Test: (loss={loss_test}) (dice={dice_test})')"
   ]
  },
  {
   "cell_type": "code",
   "execution_count": null,
   "id": "acd2b866",
   "metadata": {},
   "outputs": [],
   "source": []
  }
 ],
 "metadata": {
  "kernelspec": {
   "display_name": "Python 3 (ipykernel)",
   "language": "python",
   "name": "python3"
  },
  "language_info": {
   "codemirror_mode": {
    "name": "ipython",
    "version": 3
   },
   "file_extension": ".py",
   "mimetype": "text/x-python",
   "name": "python",
   "nbconvert_exporter": "python",
   "pygments_lexer": "ipython3",
   "version": "3.7.5"
  }
 },
 "nbformat": 4,
 "nbformat_minor": 5
}
