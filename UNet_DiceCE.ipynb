{
 "cells": [
  {
   "cell_type": "code",
   "execution_count": 1,
   "id": "83d95e1b",
   "metadata": {},
   "outputs": [],
   "source": [
    "%matplotlib inline"
   ]
  },
  {
   "cell_type": "code",
   "execution_count": 2,
   "id": "94e18ee7",
   "metadata": {},
   "outputs": [
    {
     "name": "stdout",
     "output_type": "stream",
     "text": [
      "MONAI version: 1.1.0\n",
      "Numpy version: 1.21.5\n",
      "Pytorch version: 1.13.1+cu117\n",
      "MONAI flags: HAS_EXT = False, USE_COMPILED = False, USE_META_DICT = False\n",
      "MONAI rev id: a2ec3752f54bfc3b40e7952234fbeb5452ed63e3\n",
      "MONAI __file__: /home/emmanuel/PycharmProjects/pythonProject/venv/lib/python3.7/site-packages/monai/__init__.py\n",
      "\n",
      "Optional dependencies:\n",
      "Pytorch Ignite version: 0.4.11\n",
      "Nibabel version: 4.0.2\n",
      "scikit-image version: 0.19.3\n",
      "Pillow version: 9.5.0\n",
      "Tensorboard version: NOT INSTALLED or UNKNOWN VERSION.\n",
      "gdown version: 4.7.1\n",
      "TorchVision version: 0.14.1+cu117\n",
      "tqdm version: 4.65.0\n",
      "lmdb version: 1.4.1\n",
      "psutil version: 5.9.5\n",
      "pandas version: 1.3.5\n",
      "einops version: 0.6.1\n",
      "transformers version: 4.28.1\n",
      "mlflow version: 1.30.1\n",
      "pynrrd version: 1.0.0\n",
      "\n",
      "For details about installing the optional dependencies, please visit:\n",
      "    https://docs.monai.io/en/latest/installation.html#installing-the-recommended-dependencies\n",
      "\n"
     ]
    }
   ],
   "source": [
    "import os\n",
    "import shutil\n",
    "import tempfile\n",
    "\n",
    "from tqdm import tqdm\n",
    "\n",
    "import numpy as np\n",
    "import nibabel as nib\n",
    "import concurrent.futures\n",
    "\n",
    "from monai.data.utils import pad_list_data_collate\n",
    "\n",
    "import monai.losses as losses\n",
    "import matplotlib.pyplot as plt\n",
    "from monai.networks.layers import Norm\n",
    "\n",
    "from monai.losses import DiceCELoss\n",
    "from monai.inferers import sliding_window_inference\n",
    "from monai.transforms import Transform\n",
    "from monai.transforms import (\n",
    "    AsDiscrete,\n",
    "    Compose,\n",
    "    SpatialPad,\n",
    "    SpatialPadd,\n",
    "    CropForegroundd,\n",
    "    LoadImaged,\n",
    "    Orientationd,\n",
    "    RandFlipd,\n",
    "    RandCropByPosNegLabeld,\n",
    "    RandCropByLabelClassesd,\n",
    "    RandShiftIntensityd,\n",
    "    ScaleIntensityRanged,\n",
    "    NormalizeIntensity,\n",
    "    NormalizeIntensityd,\n",
    "    Spacingd,\n",
    "    RandRotate90d,\n",
    "    EnsureTyped,\n",
    "    RandGaussianNoised,\n",
    ")\n",
    "\n",
    "\n",
    "from monai.config import print_config\n",
    "from monai.metrics import DiceMetric, HausdorffDistanceMetric\n",
    "from monai.networks.nets import UNet\n",
    "\n",
    "from monai.data import (\n",
    "    DataLoader,\n",
    "    ThreadDataLoader,\n",
    "    SmartCacheDataset,\n",
    "    PersistentDataset,\n",
    "    load_decathlon_datalist,\n",
    "    decollate_batch,\n",
    "    set_track_meta,\n",
    ")\n",
    "\n",
    "\n",
    "import torch\n",
    "from torch.optim.lr_scheduler import ReduceLROnPlateau, CyclicLR\n",
    "\n",
    "from boundary_loss import BDLoss, DC_and_BD_loss\n",
    "\n",
    "print_config()"
   ]
  },
  {
   "cell_type": "code",
   "execution_count": 3,
   "id": "c27ce420",
   "metadata": {},
   "outputs": [
    {
     "name": "stdout",
     "output_type": "stream",
     "text": [
      "Model/best_metric_model_with_ce_loss.pth\n"
     ]
    }
   ],
   "source": [
    "directory = os.environ.get(\"MONAI_DATA_DIRECTORY\")\n",
    "root_dir = 'Model'\n",
    "model_name =  os.path.join(root_dir, \"best_metric_model_with_ce_loss.pth\")\n",
    "print(model_name)"
   ]
  },
  {
   "cell_type": "code",
   "execution_count": 4,
   "id": "ced24050",
   "metadata": {},
   "outputs": [],
   "source": [
    "class CombineBinaryMaps(Transform):\n",
    "    def __init__(self, num_classes, keys):\n",
    "        super().__init__()\n",
    "        self.num_classes = num_classes\n",
    "\n",
    "    def __call__(self, data):\n",
    "        binary_maps = data[\"label\"]\n",
    "        combined_map = torch.zeros_like(data['image'][0])\n",
    "\n",
    "        for i in range(self.num_classes):\n",
    "            zero_indices = np.where(combined_map == 0)\n",
    "            combined_map[zero_indices] += (i + 1) * binary_maps[i][zero_indices]\n",
    "#             combined_map %= (self.num_classes + 1)\n",
    "\n",
    "        data[\"label\"] = combined_map.long().unsqueeze(0)\n",
    "        return data"
   ]
  },
  {
   "cell_type": "code",
   "execution_count": 5,
   "id": "bf08a504",
   "metadata": {},
   "outputs": [],
   "source": [
    "class MyCustomDataReader(Transform):\n",
    "    def __init__(self, data_dir):\n",
    "        self.data_dir = data_dir\n",
    "\n",
    "    def __call__(self, img):\n",
    "        # Load data from the data_dir\n",
    "        file_path = os.path.join(self.data_dir, img)\n",
    "        loaded_data = np.load(file_path)  # Customize this to your specific data format\n",
    "\n",
    "        return loaded_data"
   ]
  },
  {
   "cell_type": "code",
   "execution_count": 6,
   "id": "891f3c04",
   "metadata": {},
   "outputs": [],
   "source": [
    "num_samples = 4\n",
    "\n",
    "os.environ[\"CUDA_DEVICE_ORDER\"] = \"PCI_BUS_ID\"\n",
    "device = torch.device(\"cuda\" if torch.cuda.is_available() else \"cpu\")\n",
    "\n",
    "# ToDo: Try windowing with W:350 and L:40\n",
    "# define the window width and level\n",
    "window_width = 350\n",
    "window_level = 40\n",
    "\n",
    "# calculate the intensity range to clip\n",
    "intensity_min = window_level - window_width / 2.0\n",
    "intensity_max = window_level + window_width / 2.0\n",
    "\n",
    "train_transforms = Compose(\n",
    "    [\n",
    "        LoadImaged(keys=[\"image\", \"label\"], ensure_channel_first=True, image_only=False),\n",
    "        CombineBinaryMaps(keys=[\"label\"], num_classes=10),\n",
    "#         RandGaussianNoised(keys=[\"image\"], prob=0.50, mean=0.0, std=0.1),\n",
    "\n",
    "        ScaleIntensityRanged(\n",
    "            keys=[\"image\"],\n",
    "            a_min=-175,\n",
    "            a_max=250,\n",
    "            b_min=0.0,\n",
    "            b_max=1.0,\n",
    "            clip=True,\n",
    "        ),\n",
    "        CropForegroundd(keys=[\"image\", \"label\"], source_key=\"image\"),\n",
    "        Orientationd(keys=[\"image\", \"label\"], axcodes=\"RAS\"),\n",
    "        Spacingd(\n",
    "            keys=[\"image\", \"label\"],\n",
    "            pixdim=(1.5, 1.5, 2.0),\n",
    "            mode=(\"bilinear\", \"nearest\"),\n",
    "        ),\n",
    "        SpatialPadd(\n",
    "            spatial_size=(96, 96, 96),\n",
    "            keys=[\"image\", \"label\"]\n",
    "        ),\n",
    "        EnsureTyped(keys=[\"image\", \"label\"], device=device, track_meta=False),\n",
    "       \n",
    "#         RandCropByLabelClassesd(\n",
    "#             keys=[\"image\", \"label\"],\n",
    "#             label_key=\"label\",\n",
    "#             spatial_size=(96, 96, 96),\n",
    "#             num_samples=num_samples,\n",
    "#             num_classes=11,\n",
    "#             image_key=\"image\",\n",
    "#             image_threshold=0,\n",
    "#             allow_smaller=True\n",
    "#         ),\n",
    "        RandCropByPosNegLabeld(\n",
    "            keys=[\"image\", \"label\"],\n",
    "            label_key=\"label\",\n",
    "            spatial_size=(96, 96, 96),\n",
    "            pos=1,\n",
    "            neg=1,\n",
    "            num_samples=num_samples,\n",
    "            image_key=\"image\",\n",
    "            image_threshold=0,\n",
    "            allow_smaller=True\n",
    "        ),\n",
    "\n",
    "        RandFlipd(\n",
    "            keys=[\"image\", \"label\"],\n",
    "            spatial_axis=[0],\n",
    "            prob=0.10,\n",
    "        ),\n",
    "        RandFlipd(\n",
    "            keys=[\"image\", \"label\"],\n",
    "            spatial_axis=[1],\n",
    "            prob=0.10,\n",
    "        ),\n",
    "        RandFlipd(\n",
    "            keys=[\"image\", \"label\"],\n",
    "            spatial_axis=[2],\n",
    "            prob=0.10,\n",
    "        ),\n",
    "        RandRotate90d(\n",
    "            keys=[\"image\", \"label\"],\n",
    "            prob=0.10,\n",
    "            max_k=3,\n",
    "        ),\n",
    "        RandShiftIntensityd(\n",
    "            keys=[\"image\"],\n",
    "            offsets=0.10,\n",
    "            prob=0.50,\n",
    "        ),\n",
    "\n",
    "    ]\n",
    ")\n",
    "val_transforms = Compose(\n",
    "    [\n",
    "        LoadImaged(keys=[\"image\", \"label\"], ensure_channel_first=True, image_only=False),\n",
    "        CombineBinaryMaps(keys=[\"label\"], num_classes=10),\n",
    "        ScaleIntensityRanged(keys=[\"image\"], a_min=-175, a_max=250, b_min=0.0, b_max=1.0, clip=True),\n",
    "        CropForegroundd(keys=[\"image\", \"label\"], source_key=\"image\"),\n",
    "        Orientationd(keys=[\"image\", \"label\"], axcodes=\"RAS\"),\n",
    "        Spacingd(\n",
    "            keys=[\"image\", \"label\"],\n",
    "            pixdim=(1.5, 1.5, 2.0),\n",
    "            mode=(\"bilinear\", \"nearest\"),\n",
    "        ),\n",
    "        SpatialPadd(\n",
    "            spatial_size=(96, 96, 96),\n",
    "            keys=[\"image\", \"label\"]\n",
    "        ),\n",
    "        EnsureTyped(keys=[\"image\", \"label\"], device='cpu', track_meta=True),\n",
    "    ]\n",
    ")"
   ]
  },
  {
   "cell_type": "markdown",
   "id": "c9797df2",
   "metadata": {},
   "source": [
    "# Load Dataset"
   ]
  },
  {
   "cell_type": "code",
   "execution_count": 7,
   "id": "fdad2045",
   "metadata": {},
   "outputs": [],
   "source": [
    "def generate_file_path(root_path):\n",
    "    all_files = os.listdir(root_path)\n",
    "    return [{'image': f'{root_path}/{i}/ct.nii.gz',\n",
    "             'label': [f'{root_path}/{i}/segments/{f}' for f in os.listdir(f'{root_path}/{i}/segments')],\n",
    "#              'label': f'{root_path}/{i}/labels.nii.gz'\n",
    "\n",
    "            } \n",
    "            for i in all_files if os.path.isfile(f'{root_path}/{i}/ct.nii.gz')]\n",
    "\n",
    "def data_reader(file_addr):\n",
    "    # load the image data\n",
    "    image_read = nib.load(item[\"image\"])\n",
    "    image_data = image_read.get_fdata(dtype=np.float32)\n",
    "    header = image_read.header\n",
    "    # load the label data\n",
    "    label_data = nib.load(item[\"label\"]).get_fdata(dtype=np.float32)\n",
    "    # Extract the metadata from the header\n",
    "    metadata = {'dim': header.get_data_shape(),\n",
    "                'pixdim': header.get_zooms(),\n",
    "                'affine': header.get_qform()}\n",
    "    data = {\n",
    "        'image': image_data,\n",
    "        'label': label_data,\n",
    "        'metadata': metadata,\n",
    "    }\n",
    "    return data"
   ]
  },
  {
   "cell_type": "code",
   "execution_count": 8,
   "id": "4b35b04a",
   "metadata": {},
   "outputs": [],
   "source": [
    "root = 'Dataset'\n",
    "file_list_train = generate_file_path(root_path=f'{root}/train')\n",
    "file_list_val = generate_file_path(root_path=f'{root}/val')"
   ]
  },
  {
   "cell_type": "code",
   "execution_count": 9,
   "id": "12093c2d",
   "metadata": {},
   "outputs": [],
   "source": [
    "def collate_fn(batch):\n",
    "    transform = SpatialPad(\n",
    "            (96, 96, 96),\n",
    "        )\n",
    "#     print([item for item in batch[0]])\n",
    "    images = [transform(item[\"image\"]) for item in batch[0]]\n",
    "    labels = [transform(item[\"label\"]) for item in batch[0]]\n",
    "#     print(images.shape, labels.shape)\n",
    "    return {\"image\": torch.stack(images),\n",
    "           \"label\":torch.stack(labels)}"
   ]
  },
  {
   "cell_type": "code",
   "execution_count": 10,
   "id": "a5ba7b62",
   "metadata": {},
   "outputs": [],
   "source": [
    "train_ds = PersistentDataset(\n",
    "    data=file_list_train,\n",
    "    transform=train_transforms,\n",
    "    cache_dir='train_unet'\n",
    ")\n",
    "\n",
    "train_loader = DataLoader(train_ds, batch_size=1, shuffle=True,\n",
    "                                collate_fn=lambda x: pad_list_data_collate(x, pad_to_shape=(96, 96, 96))\n",
    "                               )"
   ]
  },
  {
   "cell_type": "code",
   "execution_count": 11,
   "id": "af87b9bb",
   "metadata": {},
   "outputs": [],
   "source": [
    "val_ds = PersistentDataset(\n",
    "    data=file_list_val,\n",
    "    transform=val_transforms,\n",
    "    cache_dir='val'\n",
    "#     cache_dir='C:/Training/val'\n",
    ")\n",
    "\n",
    "val_loader = DataLoader(val_ds, batch_size=1, \n",
    "                              collate_fn=lambda x: pad_list_data_collate(x, pad_to_shape=(96, 96, 96)))"
   ]
  },
  {
   "cell_type": "code",
   "execution_count": null,
   "id": "0f84088c",
   "metadata": {},
   "outputs": [],
   "source": []
  },
  {
   "cell_type": "markdown",
   "id": "7ff890e5",
   "metadata": {},
   "source": [
    "# Model"
   ]
  },
  {
   "cell_type": "code",
   "execution_count": 12,
   "id": "de0a8a29",
   "metadata": {},
   "outputs": [],
   "source": [
    "class EarlyStopping:\n",
    "    def __init__(self, tolerance=5, min_delta=0):\n",
    "\n",
    "        self.tolerance = tolerance\n",
    "        self.min_delta = min_delta\n",
    "        self.best_loss = None\n",
    "        self.counter = 0\n",
    "        self.early_stop = False\n",
    "\n",
    "    def __call__(self, loss):\n",
    "        if self.best_loss is None:\n",
    "            self.best_loss = loss\n",
    "        else:\n",
    "            if (self.best_loss - loss) > self.min_delta:\n",
    "                self.best_loss = loss\n",
    "                self.counter = 0\n",
    "            else:\n",
    "                self.counter += 1\n",
    "                print(f'Early Stopping patience: {self.counter}, best loss: {self.best_loss}, current_loss: {loss}')\n",
    "                if self.counter >= self.tolerance:  \n",
    "                    self.early_stop = True"
   ]
  },
  {
   "cell_type": "code",
   "execution_count": 13,
   "id": "0a6c1475",
   "metadata": {},
   "outputs": [
    {
     "name": "stdout",
     "output_type": "stream",
     "text": [
      "Number of available GPUs: 1\n",
      "GPU 0: GeForce RTX 2080 Ti\n"
     ]
    }
   ],
   "source": [
    "if torch.cuda.is_available():\n",
    "    device_count = torch.cuda.device_count()\n",
    "    print(f\"Number of available GPUs: {device_count}\")\n",
    "    for i in range(device_count):\n",
    "        print(f\"GPU {i}: {torch.cuda.get_device_name(i)}\")\n",
    "else:\n",
    "    print(\"No GPU found, using CPU instead.\")"
   ]
  },
  {
   "cell_type": "code",
   "execution_count": 14,
   "id": "c6d51d49",
   "metadata": {},
   "outputs": [
    {
     "name": "stdout",
     "output_type": "stream",
     "text": [
      "cuda\n"
     ]
    }
   ],
   "source": [
    "os.environ[\"CUDA_DEVICE_ORDER\"] = \"PCI_BUS_ID\"\n",
    "device = torch.device(\"cuda\" if torch.cuda.is_available() else \"cpu\")\n",
    "print(device)\n",
    "model = UNet(\n",
    "              spatial_dims=3,\n",
    "              in_channels=1,\n",
    "              out_channels=11,\n",
    "              channels=(16, 32, 64, 128, 256),\n",
    "              strides=(2, 2, 2, 2),\n",
    "              num_res_units=2,\n",
    "              norm=Norm.BATCH\n",
    "                ).to(device)"
   ]
  },
  {
   "cell_type": "code",
   "execution_count": 15,
   "id": "20b75b45",
   "metadata": {},
   "outputs": [],
   "source": [
    "torch.backends.cudnn.benchmark = True\n",
    "early_stopping = EarlyStopping(tolerance=10, min_delta=0.001)\n",
    "loss_function = DiceCELoss(to_onehot_y=True, softmax=True, lambda_dice=1, lambda_ce=1)\n",
    "bd_loss =  BDLoss()\n",
    "optimizer = torch.optim.AdamW(model.parameters(), lr=1e-4, weight_decay=1e-5)\n",
    "scheduler = ReduceLROnPlateau(optimizer, patience=10, verbose=True, mode='min', min_lr=1e-8, factor=0.9)\n",
    "scaler = torch.cuda.amp.GradScaler()"
   ]
  },
  {
   "cell_type": "code",
   "execution_count": 16,
   "id": "c967d45a",
   "metadata": {},
   "outputs": [],
   "source": [
    "transform = SpatialPad(\n",
    "            (1, 96, 96, 96),\n",
    "        )\n",
    "def validation(epoch_iterator_val):\n",
    "    model.eval()\n",
    "    model.to('cpu')\n",
    "    validation_loss = []\n",
    "    with torch.no_grad():\n",
    "        for batch in epoch_iterator_val:\n",
    "            val_inputs, val_labels = (batch[\"image\"].cpu(), batch[\"label\"].cpu())\n",
    "#             with torch.cuda.amp.autocast():\n",
    "            val_outputs = sliding_window_inference(val_inputs, (96, 96, 96), num_samples, model)\n",
    "            val_labels_list = decollate_batch(val_labels)\n",
    "            val_labels_convert = [post_label(val_label_tensor) for val_label_tensor in val_labels_list]\n",
    "            val_outputs_list = decollate_batch(val_outputs)\n",
    "            val_output_convert = [post_pred(val_pred_tensor) for val_pred_tensor in val_outputs_list]\n",
    "            loss = loss_function(val_outputs, val_labels)\n",
    "            validation_loss.append(loss.item())\n",
    "            dice_metric(y_pred=val_output_convert, y=val_labels_convert)\n",
    "            epoch_iterator_val.set_description(f\"Validate (loss={loss.item():2.5f})\")\n",
    "#             break\n",
    "        mean_dice_val = dice_metric.aggregate().item()\n",
    "        dice_metric.reset()\n",
    "#         val_inputs, val_labels = val_inputs.cpu(), val_labels.cpu()\n",
    "        mean_hausdorff = 0\n",
    "\n",
    "        validation_loss_mean = np.nanmean(np.nan_to_num(np.array(validation_loss),\n",
    "                                               nan=np.nan, posinf=np.nan, neginf=np.nan))\n",
    "\n",
    "        val_loss_values.append(validation_loss_mean)\n",
    "    return mean_dice_val, mean_hausdorff, validation_loss_mean\n",
    "\n",
    "\n",
    "def train(global_step, train_loader, dice_val_best, global_step_best):\n",
    "    model.train()\n",
    "    model.to(device)\n",
    "    epoch_loss = 0\n",
    "    step = 0\n",
    "    epoch_iterator = tqdm(train_loader, desc=\"Training (X / X Steps) (loss=X.X)\", dynamic_ncols=True)\n",
    "    for step, batch in enumerate(epoch_iterator):\n",
    "        step += 1\n",
    "#         print(step)\n",
    "        x, y = (batch[\"image\"].cuda(), batch[\"label\"].cuda())\n",
    "#         a = all(t.shape == x.shape for t in y)\n",
    "        if x.shape != y.shape:\n",
    "            print(x.shape, y.shape)\n",
    "        with torch.cuda.amp.autocast():\n",
    "            logit_map = model(x)\n",
    "            loss = loss_function(logit_map, y)\n",
    "        scaler.scale(loss).backward()\n",
    "        epoch_loss += loss.item()\n",
    "        if torch.isnan(loss):\n",
    "            print(torch.max(x), torch.min(x))\n",
    "            \n",
    "        scaler.unscale_(optimizer)\n",
    "\n",
    "        scaler.step(optimizer)\n",
    "\n",
    "        scaler.update()\n",
    "        optimizer.zero_grad()\n",
    "\n",
    "        epoch_iterator.set_description(f\"Training ({global_step} / {max_iterations} Steps) (loss={loss.item():2.5f})\")\n",
    "        global_step += 1\n",
    "#         break\n",
    "       \n",
    "\n",
    "    epoch_loss /= step\n",
    "    return global_step, dice_val_best, global_step_best, epoch_loss"
   ]
  },
  {
   "cell_type": "code",
   "execution_count": 17,
   "id": "4c6e173d",
   "metadata": {},
   "outputs": [
    {
     "name": "stderr",
     "output_type": "stream",
     "text": [
      "Training (356 / 90000 Steps) (loss=1.31526): 100%|███████████████████████████████████████████████████████████████████████████████████████████████████████████████████████████████████████| 357/357 [00:49<00:00,  7.23it/s]\n",
      "Validate (loss=1.08222): 100%|█████████████████████████████████████████████████████████████████████████████████████████████████████████████████████████████████████████████████████████████| 24/24 [04:08<00:00, 10.37s/it]\n"
     ]
    },
    {
     "name": "stdout",
     "output_type": "stream",
     "text": [
      "Mean Hausdorff disatnce: 0\n",
      "Model Was Saved ! Current Best Avg. Dice: 0.2448105812072754 Current Avg. Dice: 0.2448105812072754\n"
     ]
    },
    {
     "name": "stderr",
     "output_type": "stream",
     "text": [
      "Training (713 / 90000 Steps) (loss=1.18126): 100%|███████████████████████████████████████████████████████████████████████████████████████████████████████████████████████████████████████| 357/357 [00:45<00:00,  7.92it/s]\n",
      "Validate (loss=0.88974): 100%|█████████████████████████████████████████████████████████████████████████████████████████████████████████████████████████████████████████████████████████████| 24/24 [04:10<00:00, 10.44s/it]\n"
     ]
    },
    {
     "name": "stdout",
     "output_type": "stream",
     "text": [
      "Mean Hausdorff disatnce: 0\n",
      "Model Was Saved ! Current Best Avg. Dice: 0.3502560555934906 Current Avg. Dice: 0.3502560555934906\n"
     ]
    },
    {
     "name": "stderr",
     "output_type": "stream",
     "text": [
      "Training (1070 / 90000 Steps) (loss=1.36170): 100%|██████████████████████████████████████████████████████████████████████████████████████████████████████████████████████████████████████| 357/357 [00:49<00:00,  7.28it/s]\n",
      "Validate (loss=0.80037): 100%|█████████████████████████████████████████████████████████████████████████████████████████████████████████████████████████████████████████████████████████████| 24/24 [04:03<00:00, 10.16s/it]\n"
     ]
    },
    {
     "name": "stdout",
     "output_type": "stream",
     "text": [
      "Mean Hausdorff disatnce: 0\n",
      "Model Was Saved ! Current Best Avg. Dice: 0.40278756618499756 Current Avg. Dice: 0.40278756618499756\n"
     ]
    },
    {
     "name": "stderr",
     "output_type": "stream",
     "text": [
      "Training (1427 / 90000 Steps) (loss=1.27393): 100%|██████████████████████████████████████████████████████████████████████████████████████████████████████████████████████████████████████| 357/357 [00:44<00:00,  8.07it/s]\n",
      "Validate (loss=0.74820): 100%|█████████████████████████████████████████████████████████████████████████████████████████████████████████████████████████████████████████████████████████████| 24/24 [04:03<00:00, 10.14s/it]\n"
     ]
    },
    {
     "name": "stdout",
     "output_type": "stream",
     "text": [
      "Mean Hausdorff disatnce: 0\n",
      "Model Was Saved ! Current Best Avg. Dice: 0.4709209203720093 Current Avg. Dice: 0.4709209203720093\n"
     ]
    },
    {
     "name": "stderr",
     "output_type": "stream",
     "text": [
      "Training (1784 / 90000 Steps) (loss=1.68325): 100%|██████████████████████████████████████████████████████████████████████████████████████████████████████████████████████████████████████| 357/357 [00:44<00:00,  7.99it/s]\n",
      "Validate (loss=0.66364): 100%|█████████████████████████████████████████████████████████████████████████████████████████████████████████████████████████████████████████████████████████████| 24/24 [04:05<00:00, 10.21s/it]\n"
     ]
    },
    {
     "name": "stdout",
     "output_type": "stream",
     "text": [
      "Mean Hausdorff disatnce: 0\n",
      "Model Was Saved ! Current Best Avg. Dice: 0.4904846251010895 Current Avg. Dice: 0.4904846251010895\n"
     ]
    },
    {
     "name": "stderr",
     "output_type": "stream",
     "text": [
      "Training (2141 / 90000 Steps) (loss=1.12171): 100%|██████████████████████████████████████████████████████████████████████████████████████████████████████████████████████████████████████| 357/357 [00:44<00:00,  8.09it/s]\n",
      "Validate (loss=0.65812): 100%|█████████████████████████████████████████████████████████████████████████████████████████████████████████████████████████████████████████████████████████████| 24/24 [04:04<00:00, 10.17s/it]\n"
     ]
    },
    {
     "name": "stdout",
     "output_type": "stream",
     "text": [
      "Mean Hausdorff disatnce: 0\n",
      "Model Was Saved ! Current Best Avg. Dice: 0.5625076293945312 Current Avg. Dice: 0.5625076293945312\n"
     ]
    },
    {
     "name": "stderr",
     "output_type": "stream",
     "text": [
      "Training (2498 / 90000 Steps) (loss=1.02363): 100%|██████████████████████████████████████████████████████████████████████████████████████████████████████████████████████████████████████| 357/357 [00:44<00:00,  7.97it/s]\n",
      "Validate (loss=0.51975): 100%|█████████████████████████████████████████████████████████████████████████████████████████████████████████████████████████████████████████████████████████████| 24/24 [04:04<00:00, 10.19s/it]\n"
     ]
    },
    {
     "name": "stdout",
     "output_type": "stream",
     "text": [
      "Mean Hausdorff disatnce: 0\n",
      "Model Was Saved ! Current Best Avg. Dice: 0.6670276522636414 Current Avg. Dice: 0.6670276522636414\n"
     ]
    },
    {
     "name": "stderr",
     "output_type": "stream",
     "text": [
      "Training (2855 / 90000 Steps) (loss=1.07965): 100%|██████████████████████████████████████████████████████████████████████████████████████████████████████████████████████████████████████| 357/357 [00:44<00:00,  8.03it/s]\n",
      "Validate (loss=0.40027): 100%|█████████████████████████████████████████████████████████████████████████████████████████████████████████████████████████████████████████████████████████████| 24/24 [04:05<00:00, 10.25s/it]\n"
     ]
    },
    {
     "name": "stdout",
     "output_type": "stream",
     "text": [
      "Mean Hausdorff disatnce: 0\n",
      "Model Was Saved ! Current Best Avg. Dice: 0.7014080882072449 Current Avg. Dice: 0.7014080882072449\n"
     ]
    },
    {
     "name": "stderr",
     "output_type": "stream",
     "text": [
      "Training (3212 / 90000 Steps) (loss=0.79981): 100%|██████████████████████████████████████████████████████████████████████████████████████████████████████████████████████████████████████| 357/357 [00:45<00:00,  7.83it/s]\n",
      "Validate (loss=0.42079): 100%|█████████████████████████████████████████████████████████████████████████████████████████████████████████████████████████████████████████████████████████████| 24/24 [04:06<00:00, 10.27s/it]\n"
     ]
    },
    {
     "name": "stdout",
     "output_type": "stream",
     "text": [
      "Mean Hausdorff disatnce: 0\n",
      "Model Was Saved ! Current Best Avg. Dice: 0.708794891834259 Current Avg. Dice: 0.708794891834259\n"
     ]
    },
    {
     "name": "stderr",
     "output_type": "stream",
     "text": [
      "Training (3569 / 90000 Steps) (loss=0.86306): 100%|██████████████████████████████████████████████████████████████████████████████████████████████████████████████████████████████████████| 357/357 [00:44<00:00,  7.95it/s]\n",
      "Validate (loss=0.32055): 100%|█████████████████████████████████████████████████████████████████████████████████████████████████████████████████████████████████████████████████████████████| 24/24 [04:05<00:00, 10.21s/it]\n"
     ]
    },
    {
     "name": "stdout",
     "output_type": "stream",
     "text": [
      "Mean Hausdorff disatnce: 0\n",
      "Model Was Saved ! Current Best Avg. Dice: 0.7734289765357971 Current Avg. Dice: 0.7734289765357971\n"
     ]
    },
    {
     "name": "stderr",
     "output_type": "stream",
     "text": [
      "Training (3926 / 90000 Steps) (loss=0.85381): 100%|██████████████████████████████████████████████████████████████████████████████████████████████████████████████████████████████████████| 357/357 [00:44<00:00,  8.08it/s]\n",
      "Validate (loss=0.32663): 100%|█████████████████████████████████████████████████████████████████████████████████████████████████████████████████████████████████████████████████████████████| 24/24 [04:07<00:00, 10.31s/it]\n"
     ]
    },
    {
     "name": "stdout",
     "output_type": "stream",
     "text": [
      "Mean Hausdorff disatnce: 0\n",
      "Model Was Saved ! Current Best Avg. Dice: 0.8020340800285339 Current Avg. Dice: 0.8020340800285339\n"
     ]
    },
    {
     "name": "stderr",
     "output_type": "stream",
     "text": [
      "Training (4283 / 90000 Steps) (loss=0.79938): 100%|██████████████████████████████████████████████████████████████████████████████████████████████████████████████████████████████████████| 357/357 [00:44<00:00,  8.08it/s]\n",
      "Validate (loss=0.26869): 100%|█████████████████████████████████████████████████████████████████████████████████████████████████████████████████████████████████████████████████████████████| 24/24 [04:07<00:00, 10.29s/it]\n"
     ]
    },
    {
     "name": "stdout",
     "output_type": "stream",
     "text": [
      "Mean Hausdorff disatnce: 0\n",
      "Model Was Saved ! Current Best Avg. Dice: 0.8169494271278381 Current Avg. Dice: 0.8169494271278381\n"
     ]
    },
    {
     "name": "stderr",
     "output_type": "stream",
     "text": [
      "Training (4640 / 90000 Steps) (loss=0.90993): 100%|██████████████████████████████████████████████████████████████████████████████████████████████████████████████████████████████████████| 357/357 [00:44<00:00,  8.09it/s]\n",
      "Validate (loss=0.30446): 100%|█████████████████████████████████████████████████████████████████████████████████████████████████████████████████████████████████████████████████████████████| 24/24 [04:07<00:00, 10.30s/it]\n"
     ]
    },
    {
     "name": "stdout",
     "output_type": "stream",
     "text": [
      "Early Stopping patience: 1, best loss: 0.37616465613245964, current_loss: 0.398872222751379\n",
      "Mean Hausdorff disatnce: 0\n",
      "Model Was Not Saved ! Current Best Avg. Dice: 0.8169494271278381 Current Avg. Dice: 0.7988057136535645\n"
     ]
    },
    {
     "name": "stderr",
     "output_type": "stream",
     "text": [
      "Training (4997 / 90000 Steps) (loss=0.62750): 100%|██████████████████████████████████████████████████████████████████████████████████████████████████████████████████████████████████████| 357/357 [00:44<00:00,  8.02it/s]\n",
      "Validate (loss=0.22479): 100%|█████████████████████████████████████████████████████████████████████████████████████████████████████████████████████████████████████████████████████████████| 24/24 [04:07<00:00, 10.33s/it]\n"
     ]
    },
    {
     "name": "stdout",
     "output_type": "stream",
     "text": [
      "Mean Hausdorff disatnce: 0\n",
      "Model Was Saved ! Current Best Avg. Dice: 0.8341140747070312 Current Avg. Dice: 0.8341140747070312\n"
     ]
    },
    {
     "name": "stderr",
     "output_type": "stream",
     "text": [
      "Training (5354 / 90000 Steps) (loss=0.76259): 100%|██████████████████████████████████████████████████████████████████████████████████████████████████████████████████████████████████████| 357/357 [00:45<00:00,  7.89it/s]\n",
      "Validate (loss=0.21693): 100%|█████████████████████████████████████████████████████████████████████████████████████████████████████████████████████████████████████████████████████████████| 24/24 [04:05<00:00, 10.24s/it]\n"
     ]
    },
    {
     "name": "stdout",
     "output_type": "stream",
     "text": [
      "Mean Hausdorff disatnce: 0\n",
      "Model Was Not Saved ! Current Best Avg. Dice: 0.8341140747070312 Current Avg. Dice: 0.8295733332633972\n"
     ]
    },
    {
     "name": "stderr",
     "output_type": "stream",
     "text": [
      "Training (5711 / 90000 Steps) (loss=0.77573): 100%|██████████████████████████████████████████████████████████████████████████████████████████████████████████████████████████████████████| 357/357 [00:44<00:00,  7.97it/s]\n",
      "Validate (loss=0.18019): 100%|█████████████████████████████████████████████████████████████████████████████████████████████████████████████████████████████████████████████████████████████| 24/24 [04:07<00:00, 10.29s/it]\n"
     ]
    },
    {
     "name": "stdout",
     "output_type": "stream",
     "text": [
      "Mean Hausdorff disatnce: 0\n",
      "Model Was Saved ! Current Best Avg. Dice: 0.8347296714782715 Current Avg. Dice: 0.8347296714782715\n"
     ]
    },
    {
     "name": "stderr",
     "output_type": "stream",
     "text": [
      "Training (6068 / 90000 Steps) (loss=0.54789): 100%|██████████████████████████████████████████████████████████████████████████████████████████████████████████████████████████████████████| 357/357 [00:44<00:00,  8.02it/s]\n",
      "Validate (loss=0.17983): 100%|█████████████████████████████████████████████████████████████████████████████████████████████████████████████████████████████████████████████████████████████| 24/24 [04:05<00:00, 10.24s/it]\n"
     ]
    },
    {
     "name": "stdout",
     "output_type": "stream",
     "text": [
      "Mean Hausdorff disatnce: 0\n",
      "Model Was Saved ! Current Best Avg. Dice: 0.8419302105903625 Current Avg. Dice: 0.8419302105903625\n"
     ]
    },
    {
     "name": "stderr",
     "output_type": "stream",
     "text": [
      "Training (6425 / 90000 Steps) (loss=1.04043): 100%|██████████████████████████████████████████████████████████████████████████████████████████████████████████████████████████████████████| 357/357 [00:44<00:00,  8.03it/s]\n",
      "Validate (loss=0.20785): 100%|█████████████████████████████████████████████████████████████████████████████████████████████████████████████████████████████████████████████████████████████| 24/24 [04:05<00:00, 10.24s/it]\n"
     ]
    },
    {
     "name": "stdout",
     "output_type": "stream",
     "text": [
      "Early Stopping patience: 1, best loss: 0.2981278946002324, current_loss: 0.3261726877341668\n",
      "Mean Hausdorff disatnce: 0\n",
      "Model Was Not Saved ! Current Best Avg. Dice: 0.8419302105903625 Current Avg. Dice: 0.8303120136260986\n"
     ]
    },
    {
     "name": "stderr",
     "output_type": "stream",
     "text": [
      "Training (6782 / 90000 Steps) (loss=0.72762): 100%|██████████████████████████████████████████████████████████████████████████████████████████████████████████████████████████████████████| 357/357 [00:44<00:00,  8.06it/s]\n",
      "Validate (loss=0.18272): 100%|█████████████████████████████████████████████████████████████████████████████████████████████████████████████████████████████████████████████████████████████| 24/24 [04:05<00:00, 10.22s/it]\n"
     ]
    },
    {
     "name": "stdout",
     "output_type": "stream",
     "text": [
      "Mean Hausdorff disatnce: 0\n",
      "Model Was Saved ! Current Best Avg. Dice: 0.8508481383323669 Current Avg. Dice: 0.8508481383323669\n"
     ]
    },
    {
     "name": "stderr",
     "output_type": "stream",
     "text": [
      "Training (7139 / 90000 Steps) (loss=0.62903): 100%|██████████████████████████████████████████████████████████████████████████████████████████████████████████████████████████████████████| 357/357 [00:44<00:00,  8.07it/s]\n",
      "Validate (loss=0.17504): 100%|█████████████████████████████████████████████████████████████████████████████████████████████████████████████████████████████████████████████████████████████| 24/24 [04:04<00:00, 10.20s/it]\n"
     ]
    },
    {
     "name": "stdout",
     "output_type": "stream",
     "text": [
      "Early Stopping patience: 1, best loss: 0.2845931127667427, current_loss: 0.29082705453038216\n",
      "Mean Hausdorff disatnce: 0\n",
      "Model Was Not Saved ! Current Best Avg. Dice: 0.8508481383323669 Current Avg. Dice: 0.848125159740448\n"
     ]
    },
    {
     "name": "stderr",
     "output_type": "stream",
     "text": [
      "Training (7496 / 90000 Steps) (loss=0.66897): 100%|██████████████████████████████████████████████████████████████████████████████████████████████████████████████████████████████████████| 357/357 [00:44<00:00,  8.07it/s]\n",
      "Validate (loss=0.15970): 100%|█████████████████████████████████████████████████████████████████████████████████████████████████████████████████████████████████████████████████████████████| 24/24 [04:05<00:00, 10.23s/it]\n"
     ]
    },
    {
     "name": "stdout",
     "output_type": "stream",
     "text": [
      "Mean Hausdorff disatnce: 0\n",
      "Model Was Saved ! Current Best Avg. Dice: 0.8609468936920166 Current Avg. Dice: 0.8609468936920166\n"
     ]
    },
    {
     "name": "stderr",
     "output_type": "stream",
     "text": [
      "Training (7853 / 90000 Steps) (loss=0.71690): 100%|██████████████████████████████████████████████████████████████████████████████████████████████████████████████████████████████████████| 357/357 [00:44<00:00,  8.01it/s]\n",
      "Validate (loss=0.16830): 100%|█████████████████████████████████████████████████████████████████████████████████████████████████████████████████████████████████████████████████████████████| 24/24 [04:05<00:00, 10.25s/it]\n"
     ]
    },
    {
     "name": "stdout",
     "output_type": "stream",
     "text": [
      "Early Stopping patience: 1, best loss: 0.2637401533623536, current_loss: 0.26375977757076424\n",
      "Mean Hausdorff disatnce: 0\n",
      "Model Was Not Saved ! Current Best Avg. Dice: 0.8609468936920166 Current Avg. Dice: 0.8554174304008484\n"
     ]
    },
    {
     "name": "stderr",
     "output_type": "stream",
     "text": [
      "Training (8210 / 90000 Steps) (loss=0.52286): 100%|██████████████████████████████████████████████████████████████████████████████████████████████████████████████████████████████████████| 357/357 [00:44<00:00,  8.05it/s]\n",
      "Validate (loss=0.17016): 100%|█████████████████████████████████████████████████████████████████████████████████████████████████████████████████████████████████████████████████████████████| 24/24 [04:05<00:00, 10.21s/it]\n"
     ]
    },
    {
     "name": "stdout",
     "output_type": "stream",
     "text": [
      "Mean Hausdorff disatnce: 0\n",
      "Model Was Saved ! Current Best Avg. Dice: 0.8691990971565247 Current Avg. Dice: 0.8691990971565247\n"
     ]
    },
    {
     "name": "stderr",
     "output_type": "stream",
     "text": [
      "Training (8567 / 90000 Steps) (loss=0.90456): 100%|██████████████████████████████████████████████████████████████████████████████████████████████████████████████████████████████████████| 357/357 [00:44<00:00,  7.98it/s]\n",
      "Validate (loss=0.16144): 100%|█████████████████████████████████████████████████████████████████████████████████████████████████████████████████████████████████████████████████████████████| 24/24 [04:06<00:00, 10.27s/it]\n"
     ]
    },
    {
     "name": "stdout",
     "output_type": "stream",
     "text": [
      "Early Stopping patience: 1, best loss: 0.25666111521422863, current_loss: 0.2663983752330144\n",
      "Mean Hausdorff disatnce: 0\n",
      "Model Was Not Saved ! Current Best Avg. Dice: 0.8691990971565247 Current Avg. Dice: 0.8598520159721375\n"
     ]
    },
    {
     "name": "stderr",
     "output_type": "stream",
     "text": [
      "Training (8924 / 90000 Steps) (loss=0.78745): 100%|██████████████████████████████████████████████████████████████████████████████████████████████████████████████████████████████████████| 357/357 [00:44<00:00,  7.99it/s]\n",
      "Validate (loss=0.16053): 100%|█████████████████████████████████████████████████████████████████████████████████████████████████████████████████████████████████████████████████████████████| 24/24 [04:08<00:00, 10.34s/it]\n"
     ]
    },
    {
     "name": "stdout",
     "output_type": "stream",
     "text": [
      "Early Stopping patience: 2, best loss: 0.25666111521422863, current_loss: 0.26001260926326114\n",
      "Mean Hausdorff disatnce: 0\n",
      "Model Was Not Saved ! Current Best Avg. Dice: 0.8691990971565247 Current Avg. Dice: 0.8580029010772705\n"
     ]
    },
    {
     "name": "stderr",
     "output_type": "stream",
     "text": [
      "Training (9281 / 90000 Steps) (loss=0.73191): 100%|██████████████████████████████████████████████████████████████████████████████████████████████████████████████████████████████████████| 357/357 [00:44<00:00,  7.96it/s]\n",
      "Validate (loss=0.13030): 100%|█████████████████████████████████████████████████████████████████████████████████████████████████████████████████████████████████████████████████████████████| 24/24 [04:05<00:00, 10.23s/it]\n"
     ]
    },
    {
     "name": "stdout",
     "output_type": "stream",
     "text": [
      "Early Stopping patience: 3, best loss: 0.25666111521422863, current_loss: 0.25748278635243577\n",
      "Mean Hausdorff disatnce: 0\n",
      "Model Was Not Saved ! Current Best Avg. Dice: 0.8691990971565247 Current Avg. Dice: 0.8586651682853699\n"
     ]
    },
    {
     "name": "stderr",
     "output_type": "stream",
     "text": [
      "Training (9638 / 90000 Steps) (loss=0.69804): 100%|██████████████████████████████████████████████████████████████████████████████████████████████████████████████████████████████████████| 357/357 [00:44<00:00,  7.97it/s]\n",
      "Validate (loss=0.12875): 100%|█████████████████████████████████████████████████████████████████████████████████████████████████████████████████████████████████████████████████████████████| 24/24 [04:04<00:00, 10.19s/it]\n"
     ]
    },
    {
     "name": "stdout",
     "output_type": "stream",
     "text": [
      "Mean Hausdorff disatnce: 0\n",
      "Model Was Saved ! Current Best Avg. Dice: 0.8756491541862488 Current Avg. Dice: 0.8756491541862488\n"
     ]
    },
    {
     "name": "stderr",
     "output_type": "stream",
     "text": [
      "Training (9995 / 90000 Steps) (loss=0.64138): 100%|██████████████████████████████████████████████████████████████████████████████████████████████████████████████████████████████████████| 357/357 [00:44<00:00,  8.04it/s]\n",
      "Validate (loss=0.22460): 100%|█████████████████████████████████████████████████████████████████████████████████████████████████████████████████████████████████████████████████████████████| 24/24 [04:04<00:00, 10.20s/it]\n"
     ]
    },
    {
     "name": "stdout",
     "output_type": "stream",
     "text": [
      "Early Stopping patience: 1, best loss: 0.23988657289495072, current_loss: 0.3045253275583188\n",
      "Mean Hausdorff disatnce: 0\n",
      "Model Was Not Saved ! Current Best Avg. Dice: 0.8756491541862488 Current Avg. Dice: 0.8217137455940247\n"
     ]
    },
    {
     "name": "stderr",
     "output_type": "stream",
     "text": [
      "Training (10352 / 90000 Steps) (loss=0.81978): 100%|█████████████████████████████████████████████████████████████████████████████████████████████████████████████████████████████████████| 357/357 [00:44<00:00,  8.04it/s]\n",
      "Validate (loss=0.11619): 100%|█████████████████████████████████████████████████████████████████████████████████████████████████████████████████████████████████████████████████████████████| 24/24 [04:05<00:00, 10.24s/it]\n"
     ]
    },
    {
     "name": "stdout",
     "output_type": "stream",
     "text": [
      "Mean Hausdorff disatnce: 0\n",
      "Model Was Saved ! Current Best Avg. Dice: 0.8766011595726013 Current Avg. Dice: 0.8766011595726013\n"
     ]
    },
    {
     "name": "stderr",
     "output_type": "stream",
     "text": [
      "Training (10709 / 90000 Steps) (loss=0.70023): 100%|█████████████████████████████████████████████████████████████████████████████████████████████████████████████████████████████████████| 357/357 [00:44<00:00,  8.04it/s]\n",
      "Validate (loss=0.11875): 100%|█████████████████████████████████████████████████████████████████████████████████████████████████████████████████████████████████████████████████████████████| 24/24 [04:05<00:00, 10.21s/it]\n"
     ]
    },
    {
     "name": "stdout",
     "output_type": "stream",
     "text": [
      "Early Stopping patience: 1, best loss: 0.2358646597713232, current_loss: 0.25340898148715496\n",
      "Mean Hausdorff disatnce: 0\n",
      "Model Was Not Saved ! Current Best Avg. Dice: 0.8766011595726013 Current Avg. Dice: 0.8603236675262451\n"
     ]
    },
    {
     "name": "stderr",
     "output_type": "stream",
     "text": [
      "Training (11066 / 90000 Steps) (loss=0.66987): 100%|█████████████████████████████████████████████████████████████████████████████████████████████████████████████████████████████████████| 357/357 [00:44<00:00,  7.99it/s]\n",
      "Validate (loss=0.13036): 100%|█████████████████████████████████████████████████████████████████████████████████████████████████████████████████████████████████████████████████████████████| 24/24 [04:05<00:00, 10.24s/it]\n"
     ]
    },
    {
     "name": "stdout",
     "output_type": "stream",
     "text": [
      "Mean Hausdorff disatnce: 0\n",
      "Model Was Saved ! Current Best Avg. Dice: 0.8782525062561035 Current Avg. Dice: 0.8782525062561035\n"
     ]
    },
    {
     "name": "stderr",
     "output_type": "stream",
     "text": [
      "Training (11423 / 90000 Steps) (loss=0.48154): 100%|█████████████████████████████████████████████████████████████████████████████████████████████████████████████████████████████████████| 357/357 [00:44<00:00,  8.03it/s]\n",
      "Validate (loss=0.14124): 100%|█████████████████████████████████████████████████████████████████████████████████████████████████████████████████████████████████████████████████████████████| 24/24 [04:05<00:00, 10.21s/it]\n"
     ]
    },
    {
     "name": "stdout",
     "output_type": "stream",
     "text": [
      "Mean Hausdorff disatnce: 0\n",
      "Model Was Saved ! Current Best Avg. Dice: 0.8803779482841492 Current Avg. Dice: 0.8803779482841492\n"
     ]
    },
    {
     "name": "stderr",
     "output_type": "stream",
     "text": [
      "Training (11780 / 90000 Steps) (loss=0.89420): 100%|█████████████████████████████████████████████████████████████████████████████████████████████████████████████████████████████████████| 357/357 [00:44<00:00,  8.03it/s]\n",
      "Validate (loss=0.12181): 100%|█████████████████████████████████████████████████████████████████████████████████████████████████████████████████████████████████████████████████████████████| 24/24 [04:05<00:00, 10.21s/it]\n"
     ]
    },
    {
     "name": "stdout",
     "output_type": "stream",
     "text": [
      "Early Stopping patience: 1, best loss: 0.22365332829455534, current_loss: 0.232127389870584\n",
      "Mean Hausdorff disatnce: 0\n",
      "Model Was Not Saved ! Current Best Avg. Dice: 0.8803779482841492 Current Avg. Dice: 0.8779775500297546\n"
     ]
    },
    {
     "name": "stderr",
     "output_type": "stream",
     "text": [
      "Training (12137 / 90000 Steps) (loss=0.49870): 100%|█████████████████████████████████████████████████████████████████████████████████████████████████████████████████████████████████████| 357/357 [00:45<00:00,  7.93it/s]\n",
      "Validate (loss=0.10599): 100%|█████████████████████████████████████████████████████████████████████████████████████████████████████████████████████████████████████████████████████████████| 24/24 [04:06<00:00, 10.26s/it]\n"
     ]
    },
    {
     "name": "stdout",
     "output_type": "stream",
     "text": [
      "Mean Hausdorff disatnce: 0\n",
      "Model Was Saved ! Current Best Avg. Dice: 0.8901250958442688 Current Avg. Dice: 0.8901250958442688\n"
     ]
    },
    {
     "name": "stderr",
     "output_type": "stream",
     "text": [
      "Training (12494 / 90000 Steps) (loss=0.80186): 100%|█████████████████████████████████████████████████████████████████████████████████████████████████████████████████████████████████████| 357/357 [00:44<00:00,  8.04it/s]\n",
      "Validate (loss=0.11057): 100%|█████████████████████████████████████████████████████████████████████████████████████████████████████████████████████████████████████████████████████████████| 24/24 [04:06<00:00, 10.27s/it]\n"
     ]
    },
    {
     "name": "stdout",
     "output_type": "stream",
     "text": [
      "Early Stopping patience: 1, best loss: 0.20796850137412548, current_loss: 0.21056911473472914\n",
      "Mean Hausdorff disatnce: 0\n",
      "Model Was Saved ! Current Best Avg. Dice: 0.8908461928367615 Current Avg. Dice: 0.8908461928367615\n"
     ]
    },
    {
     "name": "stderr",
     "output_type": "stream",
     "text": [
      "Training (12851 / 90000 Steps) (loss=0.86564): 100%|█████████████████████████████████████████████████████████████████████████████████████████████████████████████████████████████████████| 357/357 [00:44<00:00,  7.96it/s]\n",
      "Validate (loss=0.10866): 100%|█████████████████████████████████████████████████████████████████████████████████████████████████████████████████████████████████████████████████████████████| 24/24 [04:04<00:00, 10.21s/it]\n"
     ]
    },
    {
     "name": "stdout",
     "output_type": "stream",
     "text": [
      "Early Stopping patience: 2, best loss: 0.20796850137412548, current_loss: 0.2072699125856161\n",
      "Mean Hausdorff disatnce: 0\n",
      "Model Was Not Saved ! Current Best Avg. Dice: 0.8908461928367615 Current Avg. Dice: 0.8881245255470276\n"
     ]
    },
    {
     "name": "stderr",
     "output_type": "stream",
     "text": [
      "Training (13208 / 90000 Steps) (loss=0.73443): 100%|█████████████████████████████████████████████████████████████████████████████████████████████████████████████████████████████████████| 357/357 [00:44<00:00,  7.99it/s]\n",
      "Validate (loss=0.11638): 100%|█████████████████████████████████████████████████████████████████████████████████████████████████████████████████████████████████████████████████████████████| 24/24 [04:05<00:00, 10.21s/it]\n"
     ]
    },
    {
     "name": "stdout",
     "output_type": "stream",
     "text": [
      "Mean Hausdorff disatnce: 0\n",
      "Model Was Saved ! Current Best Avg. Dice: 0.8941600322723389 Current Avg. Dice: 0.8941600322723389\n"
     ]
    },
    {
     "name": "stderr",
     "output_type": "stream",
     "text": [
      "Training (13565 / 90000 Steps) (loss=0.63050): 100%|█████████████████████████████████████████████████████████████████████████████████████████████████████████████████████████████████████| 357/357 [00:44<00:00,  8.07it/s]\n",
      "Validate (loss=0.10351): 100%|█████████████████████████████████████████████████████████████████████████████████████████████████████████████████████████████████████████████████████████████| 24/24 [04:05<00:00, 10.22s/it]\n"
     ]
    },
    {
     "name": "stdout",
     "output_type": "stream",
     "text": [
      "Early Stopping patience: 1, best loss: 0.19911465886980295, current_loss: 0.20771685925622782\n",
      "Mean Hausdorff disatnce: 0\n",
      "Model Was Not Saved ! Current Best Avg. Dice: 0.8941600322723389 Current Avg. Dice: 0.8880138397216797\n"
     ]
    },
    {
     "name": "stderr",
     "output_type": "stream",
     "text": [
      "Training (13922 / 90000 Steps) (loss=0.80148): 100%|█████████████████████████████████████████████████████████████████████████████████████████████████████████████████████████████████████| 357/357 [00:45<00:00,  7.91it/s]\n",
      "Validate (loss=0.10243): 100%|█████████████████████████████████████████████████████████████████████████████████████████████████████████████████████████████████████████████████████████████| 24/24 [04:07<00:00, 10.33s/it]\n"
     ]
    },
    {
     "name": "stdout",
     "output_type": "stream",
     "text": [
      "Early Stopping patience: 2, best loss: 0.19911465886980295, current_loss: 0.20154118134329715\n",
      "Mean Hausdorff disatnce: 0\n",
      "Model Was Not Saved ! Current Best Avg. Dice: 0.8941600322723389 Current Avg. Dice: 0.8937191963195801\n"
     ]
    },
    {
     "name": "stderr",
     "output_type": "stream",
     "text": [
      "Training (14279 / 90000 Steps) (loss=0.37360): 100%|█████████████████████████████████████████████████████████████████████████████████████████████████████████████████████████████████████| 357/357 [00:44<00:00,  7.99it/s]\n",
      "Validate (loss=0.09813): 100%|█████████████████████████████████████████████████████████████████████████████████████████████████████████████████████████████████████████████████████████████| 24/24 [04:05<00:00, 10.23s/it]\n"
     ]
    },
    {
     "name": "stdout",
     "output_type": "stream",
     "text": [
      "Early Stopping patience: 3, best loss: 0.19911465886980295, current_loss: 0.20964330372711024\n",
      "Mean Hausdorff disatnce: 0\n",
      "Model Was Not Saved ! Current Best Avg. Dice: 0.8941600322723389 Current Avg. Dice: 0.8889120221138\n"
     ]
    },
    {
     "name": "stderr",
     "output_type": "stream",
     "text": [
      "Training (14636 / 90000 Steps) (loss=0.55734): 100%|█████████████████████████████████████████████████████████████████████████████████████████████████████████████████████████████████████| 357/357 [00:44<00:00,  8.05it/s]\n",
      "Validate (loss=0.09741): 100%|█████████████████████████████████████████████████████████████████████████████████████████████████████████████████████████████████████████████████████████████| 24/24 [04:05<00:00, 10.23s/it]\n"
     ]
    },
    {
     "name": "stdout",
     "output_type": "stream",
     "text": [
      "Early Stopping patience: 4, best loss: 0.19911465886980295, current_loss: 0.2066477993503213\n",
      "Mean Hausdorff disatnce: 0\n",
      "Model Was Saved ! Current Best Avg. Dice: 0.894263505935669 Current Avg. Dice: 0.894263505935669\n"
     ]
    },
    {
     "name": "stderr",
     "output_type": "stream",
     "text": [
      "Training (14993 / 90000 Steps) (loss=0.71344): 100%|█████████████████████████████████████████████████████████████████████████████████████████████████████████████████████████████████████| 357/357 [00:44<00:00,  8.02it/s]\n",
      "Validate (loss=0.09785): 100%|█████████████████████████████████████████████████████████████████████████████████████████████████████████████████████████████████████████████████████████████| 24/24 [04:05<00:00, 10.21s/it]\n"
     ]
    },
    {
     "name": "stdout",
     "output_type": "stream",
     "text": [
      "Mean Hausdorff disatnce: 0\n",
      "Model Was Saved ! Current Best Avg. Dice: 0.899139404296875 Current Avg. Dice: 0.899139404296875\n"
     ]
    },
    {
     "name": "stderr",
     "output_type": "stream",
     "text": [
      "Training (15350 / 90000 Steps) (loss=0.65302): 100%|█████████████████████████████████████████████████████████████████████████████████████████████████████████████████████████████████████| 357/357 [00:44<00:00,  8.04it/s]\n",
      "Validate (loss=0.12094): 100%|█████████████████████████████████████████████████████████████████████████████████████████████████████████████████████████████████████████████████████████████| 24/24 [04:05<00:00, 10.23s/it]\n"
     ]
    },
    {
     "name": "stdout",
     "output_type": "stream",
     "text": [
      "Early Stopping patience: 1, best loss: 0.19427872387071451, current_loss: 0.23683518450707197\n",
      "Mean Hausdorff disatnce: 0\n",
      "Model Was Not Saved ! Current Best Avg. Dice: 0.899139404296875 Current Avg. Dice: 0.8631507754325867\n"
     ]
    },
    {
     "name": "stderr",
     "output_type": "stream",
     "text": [
      "Training (15707 / 90000 Steps) (loss=0.65971): 100%|█████████████████████████████████████████████████████████████████████████████████████████████████████████████████████████████████████| 357/357 [00:44<00:00,  8.09it/s]\n",
      "Validate (loss=0.09543): 100%|█████████████████████████████████████████████████████████████████████████████████████████████████████████████████████████████████████████████████████████████| 24/24 [04:05<00:00, 10.24s/it]\n"
     ]
    },
    {
     "name": "stdout",
     "output_type": "stream",
     "text": [
      "Early Stopping patience: 2, best loss: 0.19427872387071451, current_loss: 0.1977738318964839\n",
      "Mean Hausdorff disatnce: 0\n",
      "Model Was Not Saved ! Current Best Avg. Dice: 0.899139404296875 Current Avg. Dice: 0.8943760991096497\n"
     ]
    },
    {
     "name": "stderr",
     "output_type": "stream",
     "text": [
      "Training (16064 / 90000 Steps) (loss=0.60972): 100%|█████████████████████████████████████████████████████████████████████████████████████████████████████████████████████████████████████| 357/357 [00:44<00:00,  8.05it/s]\n",
      "Validate (loss=0.09319): 100%|█████████████████████████████████████████████████████████████████████████████████████████████████████████████████████████████████████████████████████████████| 24/24 [04:06<00:00, 10.25s/it]\n"
     ]
    },
    {
     "name": "stdout",
     "output_type": "stream",
     "text": [
      "Early Stopping patience: 3, best loss: 0.19427872387071451, current_loss: 0.19577937045445046\n",
      "Mean Hausdorff disatnce: 0\n",
      "Model Was Not Saved ! Current Best Avg. Dice: 0.899139404296875 Current Avg. Dice: 0.8946168422698975\n"
     ]
    },
    {
     "name": "stderr",
     "output_type": "stream",
     "text": [
      "Training (16421 / 90000 Steps) (loss=0.65240): 100%|█████████████████████████████████████████████████████████████████████████████████████████████████████████████████████████████████████| 357/357 [00:45<00:00,  7.87it/s]\n",
      "Validate (loss=0.08831): 100%|█████████████████████████████████████████████████████████████████████████████████████████████████████████████████████████████████████████████████████████████| 24/24 [04:04<00:00, 10.19s/it]\n"
     ]
    },
    {
     "name": "stdout",
     "output_type": "stream",
     "text": [
      "Early Stopping patience: 4, best loss: 0.19427872387071451, current_loss: 0.19619120657444\n",
      "Mean Hausdorff disatnce: 0\n",
      "Model Was Not Saved ! Current Best Avg. Dice: 0.899139404296875 Current Avg. Dice: 0.8934187293052673\n"
     ]
    },
    {
     "name": "stderr",
     "output_type": "stream",
     "text": [
      "Training (16778 / 90000 Steps) (loss=0.40234): 100%|█████████████████████████████████████████████████████████████████████████████████████████████████████████████████████████████████████| 357/357 [00:45<00:00,  7.86it/s]\n",
      "Validate (loss=0.10663): 100%|█████████████████████████████████████████████████████████████████████████████████████████████████████████████████████████████████████████████████████████████| 24/24 [04:06<00:00, 10.29s/it]\n"
     ]
    },
    {
     "name": "stdout",
     "output_type": "stream",
     "text": [
      "Early Stopping patience: 5, best loss: 0.19427872387071451, current_loss: 0.20052860646198192\n",
      "Mean Hausdorff disatnce: 0\n",
      "Model Was Not Saved ! Current Best Avg. Dice: 0.899139404296875 Current Avg. Dice: 0.8952586650848389\n"
     ]
    },
    {
     "name": "stderr",
     "output_type": "stream",
     "text": [
      "Training (17135 / 90000 Steps) (loss=0.86606): 100%|█████████████████████████████████████████████████████████████████████████████████████████████████████████████████████████████████████| 357/357 [00:44<00:00,  7.97it/s]\n",
      "Validate (loss=0.09467): 100%|█████████████████████████████████████████████████████████████████████████████████████████████████████████████████████████████████████████████████████████████| 24/24 [04:06<00:00, 10.25s/it]\n"
     ]
    },
    {
     "name": "stdout",
     "output_type": "stream",
     "text": [
      "Mean Hausdorff disatnce: 0\n",
      "Model Was Saved ! Current Best Avg. Dice: 0.904628574848175 Current Avg. Dice: 0.904628574848175\n"
     ]
    },
    {
     "name": "stderr",
     "output_type": "stream",
     "text": [
      "Training (17492 / 90000 Steps) (loss=0.61121): 100%|█████████████████████████████████████████████████████████████████████████████████████████████████████████████████████████████████████| 357/357 [00:44<00:00,  8.06it/s]\n",
      "Validate (loss=0.09546): 100%|█████████████████████████████████████████████████████████████████████████████████████████████████████████████████████████████████████████████████████████████| 24/24 [04:05<00:00, 10.22s/it]\n"
     ]
    },
    {
     "name": "stdout",
     "output_type": "stream",
     "text": [
      "Early Stopping patience: 1, best loss: 0.1819490436464548, current_loss: 0.19713371247053146\n",
      "Mean Hausdorff disatnce: 0\n",
      "Model Was Not Saved ! Current Best Avg. Dice: 0.904628574848175 Current Avg. Dice: 0.896129846572876\n"
     ]
    },
    {
     "name": "stderr",
     "output_type": "stream",
     "text": [
      "Training (17849 / 90000 Steps) (loss=0.74694): 100%|█████████████████████████████████████████████████████████████████████████████████████████████████████████████████████████████████████| 357/357 [00:44<00:00,  8.04it/s]\n",
      "Validate (loss=0.10026): 100%|█████████████████████████████████████████████████████████████████████████████████████████████████████████████████████████████████████████████████████████████| 24/24 [04:05<00:00, 10.24s/it]\n"
     ]
    },
    {
     "name": "stdout",
     "output_type": "stream",
     "text": [
      "Early Stopping patience: 2, best loss: 0.1819490436464548, current_loss: 0.183902895078063\n",
      "Mean Hausdorff disatnce: 0\n",
      "Model Was Not Saved ! Current Best Avg. Dice: 0.904628574848175 Current Avg. Dice: 0.9034572243690491\n"
     ]
    },
    {
     "name": "stderr",
     "output_type": "stream",
     "text": [
      "Training (18206 / 90000 Steps) (loss=0.29902): 100%|█████████████████████████████████████████████████████████████████████████████████████████████████████████████████████████████████████| 357/357 [00:44<00:00,  8.08it/s]\n",
      "Validate (loss=0.09162): 100%|█████████████████████████████████████████████████████████████████████████████████████████████████████████████████████████████████████████████████████████████| 24/24 [04:06<00:00, 10.26s/it]\n"
     ]
    },
    {
     "name": "stdout",
     "output_type": "stream",
     "text": [
      "Early Stopping patience: 3, best loss: 0.1819490436464548, current_loss: 0.18525463591019312\n",
      "Mean Hausdorff disatnce: 0\n",
      "Model Was Not Saved ! Current Best Avg. Dice: 0.904628574848175 Current Avg. Dice: 0.8990073800086975\n"
     ]
    },
    {
     "name": "stderr",
     "output_type": "stream",
     "text": [
      "Training (18563 / 90000 Steps) (loss=0.37653): 100%|█████████████████████████████████████████████████████████████████████████████████████████████████████████████████████████████████████| 357/357 [00:44<00:00,  8.05it/s]\n",
      "Validate (loss=0.09957): 100%|█████████████████████████████████████████████████████████████████████████████████████████████████████████████████████████████████████████████████████████████| 24/24 [04:06<00:00, 10.27s/it]\n"
     ]
    },
    {
     "name": "stdout",
     "output_type": "stream",
     "text": [
      "Early Stopping patience: 4, best loss: 0.1819490436464548, current_loss: 0.1968339333931605\n",
      "Mean Hausdorff disatnce: 0\n",
      "Model Was Not Saved ! Current Best Avg. Dice: 0.904628574848175 Current Avg. Dice: 0.8938425183296204\n"
     ]
    },
    {
     "name": "stderr",
     "output_type": "stream",
     "text": [
      "Training (18920 / 90000 Steps) (loss=0.63531): 100%|█████████████████████████████████████████████████████████████████████████████████████████████████████████████████████████████████████| 357/357 [00:44<00:00,  8.03it/s]\n",
      "Validate (loss=0.09064): 100%|█████████████████████████████████████████████████████████████████████████████████████████████████████████████████████████████████████████████████████████████| 24/24 [04:05<00:00, 10.21s/it]\n"
     ]
    },
    {
     "name": "stdout",
     "output_type": "stream",
     "text": [
      "Mean Hausdorff disatnce: 0\n",
      "Model Was Saved ! Current Best Avg. Dice: 0.9074835777282715 Current Avg. Dice: 0.9074835777282715\n"
     ]
    },
    {
     "name": "stderr",
     "output_type": "stream",
     "text": [
      "Training (19277 / 90000 Steps) (loss=0.60226): 100%|█████████████████████████████████████████████████████████████████████████████████████████████████████████████████████████████████████| 357/357 [00:44<00:00,  8.06it/s]\n",
      "Validate (loss=0.09696): 100%|█████████████████████████████████████████████████████████████████████████████████████████████████████████████████████████████████████████████████████████████| 24/24 [04:04<00:00, 10.20s/it]\n"
     ]
    },
    {
     "name": "stdout",
     "output_type": "stream",
     "text": [
      "Early Stopping patience: 1, best loss: 0.17646410533537468, current_loss: 0.19456137406329313\n",
      "Mean Hausdorff disatnce: 0\n",
      "Model Was Not Saved ! Current Best Avg. Dice: 0.9074835777282715 Current Avg. Dice: 0.8926157355308533\n"
     ]
    },
    {
     "name": "stderr",
     "output_type": "stream",
     "text": [
      "Training (19634 / 90000 Steps) (loss=0.81117): 100%|█████████████████████████████████████████████████████████████████████████████████████████████████████████████████████████████████████| 357/357 [00:44<00:00,  8.03it/s]\n",
      "Validate (loss=0.09308): 100%|█████████████████████████████████████████████████████████████████████████████████████████████████████████████████████████████████████████████████████████████| 24/24 [04:05<00:00, 10.24s/it]\n"
     ]
    },
    {
     "name": "stdout",
     "output_type": "stream",
     "text": [
      "Early Stopping patience: 2, best loss: 0.17646410533537468, current_loss: 0.18459262885153294\n",
      "Mean Hausdorff disatnce: 0\n",
      "Model Was Not Saved ! Current Best Avg. Dice: 0.9074835777282715 Current Avg. Dice: 0.9003004431724548\n"
     ]
    },
    {
     "name": "stderr",
     "output_type": "stream",
     "text": [
      "Training (19991 / 90000 Steps) (loss=0.74723): 100%|█████████████████████████████████████████████████████████████████████████████████████████████████████████████████████████████████████| 357/357 [00:44<00:00,  8.07it/s]\n",
      "Validate (loss=0.09860): 100%|█████████████████████████████████████████████████████████████████████████████████████████████████████████████████████████████████████████████████████████████| 24/24 [04:05<00:00, 10.22s/it]\n"
     ]
    },
    {
     "name": "stdout",
     "output_type": "stream",
     "text": [
      "Early Stopping patience: 3, best loss: 0.17646410533537468, current_loss: 0.19483806223918995\n",
      "Mean Hausdorff disatnce: 0\n",
      "Model Was Not Saved ! Current Best Avg. Dice: 0.9074835777282715 Current Avg. Dice: 0.8950290679931641\n"
     ]
    },
    {
     "name": "stderr",
     "output_type": "stream",
     "text": [
      "Training (20348 / 90000 Steps) (loss=0.29619): 100%|█████████████████████████████████████████████████████████████████████████████████████████████████████████████████████████████████████| 357/357 [00:44<00:00,  8.04it/s]\n",
      "Validate (loss=0.10759): 100%|█████████████████████████████████████████████████████████████████████████████████████████████████████████████████████████████████████████████████████████████| 24/24 [04:04<00:00, 10.20s/it]\n"
     ]
    },
    {
     "name": "stdout",
     "output_type": "stream",
     "text": [
      "Early Stopping patience: 4, best loss: 0.17646410533537468, current_loss: 0.1856952120239536\n",
      "Mean Hausdorff disatnce: 0\n",
      "Model Was Not Saved ! Current Best Avg. Dice: 0.9074835777282715 Current Avg. Dice: 0.9030911326408386\n"
     ]
    },
    {
     "name": "stderr",
     "output_type": "stream",
     "text": [
      "Training (20705 / 90000 Steps) (loss=0.81812): 100%|█████████████████████████████████████████████████████████████████████████████████████████████████████████████████████████████████████| 357/357 [00:44<00:00,  8.06it/s]\n",
      "Validate (loss=0.09785): 100%|█████████████████████████████████████████████████████████████████████████████████████████████████████████████████████████████████████████████████████████████| 24/24 [04:05<00:00, 10.23s/it]\n"
     ]
    },
    {
     "name": "stdout",
     "output_type": "stream",
     "text": [
      "Early Stopping patience: 5, best loss: 0.17646410533537468, current_loss: 0.18042332554856935\n",
      "Mean Hausdorff disatnce: 0\n",
      "Model Was Not Saved ! Current Best Avg. Dice: 0.9074835777282715 Current Avg. Dice: 0.9030213952064514\n"
     ]
    },
    {
     "name": "stderr",
     "output_type": "stream",
     "text": [
      "Training (21062 / 90000 Steps) (loss=0.79809): 100%|█████████████████████████████████████████████████████████████████████████████████████████████████████████████████████████████████████| 357/357 [00:44<00:00,  8.07it/s]\n",
      "Validate (loss=0.09428): 100%|█████████████████████████████████████████████████████████████████████████████████████████████████████████████████████████████████████████████████████████████| 24/24 [04:05<00:00, 10.22s/it]\n"
     ]
    },
    {
     "name": "stdout",
     "output_type": "stream",
     "text": [
      "Early Stopping patience: 6, best loss: 0.17646410533537468, current_loss: 0.1805195833245913\n",
      "Mean Hausdorff disatnce: 0\n",
      "Model Was Not Saved ! Current Best Avg. Dice: 0.9074835777282715 Current Avg. Dice: 0.902592122554779\n"
     ]
    },
    {
     "name": "stderr",
     "output_type": "stream",
     "text": [
      "Training (21419 / 90000 Steps) (loss=0.75815): 100%|█████████████████████████████████████████████████████████████████████████████████████████████████████████████████████████████████████| 357/357 [00:44<00:00,  8.08it/s]\n",
      "Validate (loss=0.09527): 100%|█████████████████████████████████████████████████████████████████████████████████████████████████████████████████████████████████████████████████████████████| 24/24 [04:05<00:00, 10.23s/it]\n"
     ]
    },
    {
     "name": "stdout",
     "output_type": "stream",
     "text": [
      "Early Stopping patience: 7, best loss: 0.17646410533537468, current_loss: 0.19535860046744347\n",
      "Mean Hausdorff disatnce: 0\n",
      "Model Was Not Saved ! Current Best Avg. Dice: 0.9074835777282715 Current Avg. Dice: 0.8946418762207031\n"
     ]
    },
    {
     "name": "stderr",
     "output_type": "stream",
     "text": [
      "Training (21776 / 90000 Steps) (loss=0.80944): 100%|█████████████████████████████████████████████████████████████████████████████████████████████████████████████████████████████████████| 357/357 [00:44<00:00,  8.03it/s]\n",
      "Validate (loss=0.09441): 100%|█████████████████████████████████████████████████████████████████████████████████████████████████████████████████████████████████████████████████████████████| 24/24 [04:05<00:00, 10.22s/it]\n"
     ]
    },
    {
     "name": "stdout",
     "output_type": "stream",
     "text": [
      "Early Stopping patience: 8, best loss: 0.17646410533537468, current_loss: 0.18632051845391592\n",
      "Mean Hausdorff disatnce: 0\n",
      "Model Was Not Saved ! Current Best Avg. Dice: 0.9074835777282715 Current Avg. Dice: 0.8999964594841003\n"
     ]
    },
    {
     "name": "stderr",
     "output_type": "stream",
     "text": [
      "Training (22133 / 90000 Steps) (loss=0.62663): 100%|█████████████████████████████████████████████████████████████████████████████████████████████████████████████████████████████████████| 357/357 [00:44<00:00,  8.05it/s]\n",
      "Validate (loss=0.08322): 100%|█████████████████████████████████████████████████████████████████████████████████████████████████████████████████████████████████████████████████████████████| 24/24 [04:06<00:00, 10.28s/it]\n"
     ]
    },
    {
     "name": "stdout",
     "output_type": "stream",
     "text": [
      "Early Stopping patience: 9, best loss: 0.17646410533537468, current_loss: 0.17930772186567387\n",
      "Mean Hausdorff disatnce: 0\n",
      "Model Was Not Saved ! Current Best Avg. Dice: 0.9074835777282715 Current Avg. Dice: 0.9038634300231934\n"
     ]
    },
    {
     "name": "stderr",
     "output_type": "stream",
     "text": [
      "Training (22490 / 90000 Steps) (loss=0.48022): 100%|█████████████████████████████████████████████████████████████████████████████████████████████████████████████████████████████████████| 357/357 [00:44<00:00,  8.01it/s]\n",
      "Validate (loss=0.09438): 100%|█████████████████████████████████████████████████████████████████████████████████████████████████████████████████████████████████████████████████████████████| 24/24 [04:05<00:00, 10.25s/it]"
     ]
    },
    {
     "name": "stdout",
     "output_type": "stream",
     "text": [
      "Early Stopping patience: 10, best loss: 0.17646410533537468, current_loss: 0.18289615120738745\n",
      "Mean Hausdorff disatnce: 0\n",
      "Model Was Not Saved ! Current Best Avg. Dice: 0.9074835777282715 Current Avg. Dice: 0.9021614193916321\n"
     ]
    },
    {
     "name": "stderr",
     "output_type": "stream",
     "text": [
      "\n"
     ]
    },
    {
     "data": {
      "text/plain": [
       "<All keys matched successfully>"
      ]
     },
     "execution_count": 17,
     "metadata": {},
     "output_type": "execute_result"
    }
   ],
   "source": [
    "max_iterations = 90000\n",
    "\n",
    "post_label = AsDiscrete(to_onehot=11)\n",
    "post_pred = AsDiscrete(argmax=True, to_onehot=11)\n",
    "\n",
    "dice_metric = DiceMetric(include_background=True, reduction=\"mean\", get_not_nans=False)\n",
    "hausdorff_metric = HausdorffDistanceMetric(include_background=True, get_not_nans=False, reduction=\"none\",\n",
    "                                           distance_metric=\"euclidean\")\n",
    "# remove this section future run\n",
    "global_step = 0\n",
    "dice_val_best = 0.0\n",
    "global_step_best = 0\n",
    "epoch_loss_values = []\n",
    "metric_values = []\n",
    "val_loss_values = []\n",
    "while global_step < max_iterations:\n",
    "    global_step, dice_val_best, global_step_best, epoch_loss = train(global_step, train_loader, dice_val_best, global_step_best)\n",
    "    epoch_iterator_val = tqdm(val_loader, desc=\"Validate\", dynamic_ncols=True)\n",
    "    dice_val, hausdorff_val, loss_val = validation(epoch_iterator_val)\n",
    "    scheduler.step(epoch_loss)\n",
    "    epoch_loss_values.append(epoch_loss)\n",
    "    metric_values.append(dice_val)\n",
    "    early_stopping(loss_val)\n",
    "    print(f'Mean Hausdorff disatnce: {hausdorff_val}')\n",
    "    if dice_val > dice_val_best:\n",
    "        dice_val_best = dice_val\n",
    "        global_step_best = global_step\n",
    "        torch.save(model.state_dict(), model_name)\n",
    "        print(\n",
    "            \"Model Was Saved ! Current Best Avg. Dice: {} Current Avg. Dice: {}\".format(dice_val_best, dice_val)\n",
    "        )\n",
    "    else:\n",
    "        print(\n",
    "            \"Model Was Not Saved ! Current Best Avg. Dice: {} Current Avg. Dice: {}\".format(\n",
    "                dice_val_best, dice_val\n",
    "            )\n",
    "        )\n",
    "    # early stopping\n",
    "    if early_stopping.early_stop:\n",
    "        break\n",
    "        \n",
    "model.load_state_dict(torch.load(model_name))"
   ]
  },
  {
   "cell_type": "code",
   "execution_count": 18,
   "id": "9915c07f",
   "metadata": {},
   "outputs": [],
   "source": [
    "# epoch_iterator_val = tqdm(val_loader, desc=\"Validate\", dynamic_ncols=True)\n",
    "# for batch in epoch_iterator_val:\n",
    "#  print(1)   "
   ]
  },
  {
   "cell_type": "code",
   "execution_count": 19,
   "id": "15e90e58",
   "metadata": {},
   "outputs": [
    {
     "name": "stdout",
     "output_type": "stream",
     "text": [
      "train completed, best_metric: 0.9075 at iteration: 18921\n"
     ]
    }
   ],
   "source": [
    "print(f\"train completed, best_metric: {dice_val_best:.4f} \" f\"at iteration: {global_step_best}\")"
   ]
  },
  {
   "cell_type": "code",
   "execution_count": 20,
   "id": "3dc083e4",
   "metadata": {},
   "outputs": [
    {
     "data": {
      "image/png": "[encoded data removed]",
      "text/plain": [
       "<Figure size 1200x600 with 2 Axes>"
      ]
     },
     "metadata": {},
     "output_type": "display_data"
    }
   ],
   "source": [
    "eval_num = 357\n",
    "plt.figure(\"train\", (12, 6))\n",
    "plt.subplot(1, 2, 1)\n",
    "plt.title(\"Iteration Average Loss\")\n",
    "x = [eval_num * (i + 1) for i in range(len(epoch_loss_values))]\n",
    "y = epoch_loss_values\n",
    "plt.xlabel(\"Iteration\")\n",
    "plt.plot(x, y, label='Train')\n",
    "x = [eval_num * (i + 1) for i in range(len(val_loss_values))]\n",
    "y = val_loss_values\n",
    "plt.plot(x, y, label='Validation')\n",
    "plt.legend()\n",
    "plt.subplot(1, 2, 2)\n",
    "plt.title(\"Val Mean Dice\")\n",
    "x = [eval_num * (i + 1) for i in range(len(metric_values))]\n",
    "y = metric_values\n",
    "plt.xlabel(\"Iteration\")\n",
    "plt.plot(x, y)\n",
    "plt.show()"
   ]
  },
  {
   "cell_type": "code",
   "execution_count": null,
   "id": "7d7a5434",
   "metadata": {},
   "outputs": [],
   "source": [
    "model_name =  os.path.join(root_dir, \"best_metric_model_with_ce_loss.pth\")\n",
    "\n",
    "model.load_state_dict(torch.load(model_name))\n",
    "model.eval()"
   ]
  },
  {
   "cell_type": "code",
   "execution_count": null,
   "id": "9ab8e496",
   "metadata": {},
   "outputs": [],
   "source": [
    "case_num = 4\n",
    "with torch.no_grad():\n",
    "    model.to('cpu')\n",
    "    img_name = os.path.split(val_ds[case_num][\"image\"].meta[\"filename_or_obj\"])[1]\n",
    "    img = val_ds[case_num][\"image\"]\n",
    "    label = val_ds[case_num][\"label\"]\n",
    "    val_inputs = torch.unsqueeze(img, 1).cpu()\n",
    "    val_labels = torch.unsqueeze(label, 1).cpu()\n",
    "    val_outputs = sliding_window_inference(val_inputs, (96, 96, 96), num_samples, model, overlap=0.8)\n",
    "    plt.figure(\"check\", (18, 6))\n",
    "    plt.subplot(1, 3, 1)\n",
    "    plt.title(\"image\")\n",
    "    plt.imshow(val_inputs.cpu().numpy()[0, 0, :, :, 200], cmap=\"gray\")\n",
    "    plt.subplot(1, 3, 2)\n",
    "    plt.title(\"label\")\n",
    "    plt.imshow(val_labels.cpu().numpy()[0, 0, :, :, 200])\n",
    "    plt.subplot(1, 3, 3)\n",
    "    plt.title(\"output\")\n",
    "    plt.imshow(torch.argmax(val_outputs, dim=1).detach().cpu()[0, :, :, 200])\n",
    "    plt.show()"
   ]
  },
  {
   "cell_type": "code",
   "execution_count": null,
   "id": "1880389c",
   "metadata": {},
   "outputs": [],
   "source": [
    "file_list_test = generate_file_path(root_path=f'{root}/test')\n",
    "test_ds = PersistentDataset(\n",
    "    data=file_list_test,\n",
    "    transform=val_transforms,\n",
    "    cache_dir='test'\n",
    "#     cache_dir='C:/Training/val'\n",
    ")\n",
    "\n",
    "test_loader = ThreadDataLoader(test_ds, num_workers=0, batch_size=1, \n",
    "                              collate_fn=lambda x: pad_list_data_collate(x, pad_to_shape=(96, 96, 96)))"
   ]
  },
  {
   "cell_type": "code",
   "execution_count": null,
   "id": "1d179da0",
   "metadata": {},
   "outputs": [],
   "source": [
    "def test(epoch_iterator_test):\n",
    "    model.eval()\n",
    "    test_loss = []\n",
    "    with torch.no_grad():\n",
    "        for batch in epoch_iterator_test:\n",
    "            test_inputs, test_labels = (batch[\"image\"].cpu(), batch[\"label\"].cpu())\n",
    "            with torch.cuda.amp.autocast():\n",
    "#                 test_outputs = sliding_window_inference(test_inputs, (96, 96, 96), num_samples, model, overlap=0.8)\n",
    "                test_outputs = sliding_window_inference(test_inputs, (96, 96, 96), num_samples, model)\n",
    "            test_labels_list = decollate_batch(test_labels)\n",
    "            test_labels_convert = [post_label(test_label_tensor) for test_label_tensor in test_labels_list]\n",
    "            test_outputs_list = decollate_batch(test_outputs)\n",
    "            test_output_convert = [post_pred(test_pred_tensor) for test_pred_tensor in test_outputs_list]\n",
    "            loss = loss_function(test_outputs, test_labels)\n",
    "            test_loss.append(loss.item())\n",
    "            dice_metric(y_pred=test_output_convert, y=test_labels_convert)\n",
    "            epoch_iterator_test.set_description(f\"Test (loss={loss.item():2.5f})\")\n",
    "        mean_dice_test = dice_metric.aggregate()\n",
    "        dice_metric.reset()\n",
    "\n",
    "        test_loss_mean = np.nanmean(np.nan_to_num(np.array(test_loss),\n",
    "                                               nan=np.nan, posinf=np.nan, neginf=np.nan))\n",
    "    return mean_dice_test, test_loss_mean"
   ]
  },
  {
   "cell_type": "code",
   "execution_count": null,
   "id": "c6863d31",
   "metadata": {},
   "outputs": [],
   "source": [
    "post_label = AsDiscrete(to_onehot=11)\n",
    "post_pred = AsDiscrete(argmax=True, to_onehot=11)\n",
    "dice_metric = DiceMetric(include_background=True, reduction='none', get_not_nans=False)\n",
    "epoch_iterator_test = tqdm(test_loader, desc=\"Test\", dynamic_ncols=True)\n",
    "dice_test, loss_test = test(epoch_iterator_test)"
   ]
  },
  {
   "cell_type": "code",
   "execution_count": 31,
   "id": "37de7a59",
   "metadata": {},
   "outputs": [
    {
     "name": "stdout",
     "output_type": "stream",
     "text": [
      "Test: (loss=0.18206769496202468) (dice=0.9056133031845093)\n"
     ]
    }
   ],
   "source": [
    "print(f'Test: (loss={loss_test}) (dice={dice_test})')"
   ]
  },
  {
   "cell_type": "code",
   "execution_count": null,
   "id": "acd2b866",
   "metadata": {},
   "outputs": [],
   "source": []
  }
 ],
 "metadata": {
  "kernelspec": {
   "display_name": "Python 3 (ipykernel)",
   "language": "python",
   "name": "python3"
  },
  "language_info": {
   "codemirror_mode": {
    "name": "ipython",
    "version": 3
   },
   "file_extension": ".py",
   "mimetype": "text/x-python",
   "name": "python",
   "nbconvert_exporter": "python",
   "pygments_lexer": "ipython3",
   "version": "3.7.5"
  }
 },
 "nbformat": 4,
 "nbformat_minor": 5
}
